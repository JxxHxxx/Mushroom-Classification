{
 "cells": [
  {
   "cell_type": "markdown",
   "source": [
    "# Mushroom Classification\r\n",
    "\r\n",
    "* 식용/독 버섯 분류 문제를 하던 도중 feature select 에 대한 좋은 코드를 볼 수 있어 학습을 시작하게 되었습니다. <br> feature 를 선택하는 기술? 방법에는 여러가지가 있습니다.\r\n",
    "\r\n",
    "1. Filter methods\r\n",
    "2. Wrapper methods\r\n",
    "3. Embedded methods\r\n",
    "\r\n",
    "* Filter methods\r\n",
    "\r\n",
    "1. Basic methods (코드 구현)\r\n",
    "2. Univariate methods\r\n",
    "3. Information gain \r\n",
    "4. Fischer score\r\n",
    "5. Correlation Matrix with Heatmap (코드 구현)\r\n",
    "\r\n",
    "* Wrapper methods \r\n",
    "\r\n",
    "1. Forward Selection\r\n",
    "2. Backward Elimination\r\n",
    "3. Exhaustive Feature Selection\r\n",
    "4. Recursive Feature Elimination\r\n",
    "5. Recursive Feature Elimination with Cross-Validation (코드 구현)\r\n",
    "\r\n",
    "* Embedded methods\r\n",
    "\r\n",
    "1. LASSO\r\n",
    "2. RIDGE\r\n",
    "3. Tree Importance\r\n",
    "\r\n",
    "* Randomforest importance (코드 구현)"
   ],
   "metadata": {}
  },
  {
   "cell_type": "markdown",
   "source": [
    "- --\r\n",
    "\r\n",
    "* 실제 Mushroom classification https://www.kaggle.com/uciml/mushroom-classification 문제에서 모든 feature 를 넣고 RandomForest model 을 돌리면 <br> 100%(Cross Voildation - size 0.2)로 독버섯과 식용버섯을 분류해준다. <br> 랜덤하게 feature 를 절반정도 drop 해도 100% 에 근접하게 식용/독버섯을 분류함\r\n",
    "\r\n",
    "* 해당 데이터 셋에서 우리에게 말하고 싶은 내용 중 하나는 다음과 같다.\r\n",
    "\r\n",
    "Which features are most indicative of a poisonous mushroom?\r\n",
    "* 그럴만도하다. 대충 데이터 셋을 꾸겨넣어도 성능이 굉장히 뛰어나다. 그렇다면 우리는 효율을 따져야하지 않을까? 적은 자원을 투입해서 성능 내기"
   ],
   "metadata": {}
  },
  {
   "cell_type": "code",
   "execution_count": 2,
   "source": [
    "import numpy as np\r\n",
    "import pandas as pd"
   ],
   "outputs": [],
   "metadata": {}
  },
  {
   "cell_type": "markdown",
   "source": [
    "- --\r\n",
    "## Filter Methods\r\n",
    "\r\n",
    "* Remove constant features "
   ],
   "metadata": {}
  },
  {
   "cell_type": "code",
   "execution_count": 1,
   "source": [
    "from sklearn.feature_selection import VarianceThreshold"
   ],
   "outputs": [],
   "metadata": {}
  },
  {
   "cell_type": "code",
   "execution_count": 69,
   "source": [
    "X = [[0, 2, 0, 3], [0, 1, 4, 3], [0, 1, 1, 3]]\r\n",
    "selector = VarianceThreshold()\r\n",
    "selector.fit_transform(X)\r\n"
   ],
   "outputs": [
    {
     "output_type": "execute_result",
     "data": {
      "text/plain": [
       "array([[2, 0],\n",
       "       [1, 4],\n",
       "       [1, 1]])"
      ]
     },
     "metadata": {},
     "execution_count": 69
    }
   ],
   "metadata": {}
  },
  {
   "cell_type": "code",
   "execution_count": 70,
   "source": [
    "X = [[0, 2, 0, 3], [0, 1, 4, 3], [0, 1, 1, 3]]\r\n",
    "selector = VarianceThreshold(threshold=0)\r\n",
    "selector.fit(X)\r\n",
    "selector.get_support() # 중요도가 높은 것만 True로 반영해줌 VarianceThreshold method 의 파리미터 threshold 의 default = 0 "
   ],
   "outputs": [
    {
     "output_type": "execute_result",
     "data": {
      "text/plain": [
       "array([False,  True,  True, False])"
      ]
     },
     "metadata": {},
     "execution_count": 70
    }
   ],
   "metadata": {}
  },
  {
   "cell_type": "code",
   "execution_count": 71,
   "source": [
    "sum(selector.get_support())"
   ],
   "outputs": [
    {
     "output_type": "execute_result",
     "data": {
      "text/plain": [
       "2"
      ]
     },
     "metadata": {},
     "execution_count": 71
    }
   ],
   "metadata": {}
  },
  {
   "cell_type": "code",
   "execution_count": 72,
   "source": [
    "dataset = pd.read_csv('mushrooms.csv') # 실전\r\n",
    "\r\n",
    "dataset = dataset.drop('class', axis=1) # 타겟은 제외\r\n",
    "dataset.shape"
   ],
   "outputs": [
    {
     "output_type": "execute_result",
     "data": {
      "text/plain": [
       "(8124, 22)"
      ]
     },
     "metadata": {},
     "execution_count": 72
    }
   ],
   "metadata": {}
  },
  {
   "cell_type": "code",
   "execution_count": 73,
   "source": [
    "dataset = pd.get_dummies(dataset) # VarianceThreshold 매서드를 사용하려면 value 가 float 형이어야함\r\n",
    "dataset.shape"
   ],
   "outputs": [
    {
     "output_type": "execute_result",
     "data": {
      "text/plain": [
       "(8124, 117)"
      ]
     },
     "metadata": {},
     "execution_count": 73
    }
   ],
   "metadata": {}
  },
  {
   "cell_type": "code",
   "execution_count": 74,
   "source": [
    "selector = VarianceThreshold()\r\n",
    "selector.fit_transform(dataset)"
   ],
   "outputs": [
    {
     "output_type": "execute_result",
     "data": {
      "text/plain": [
       "array([[0, 0, 0, ..., 0, 1, 0],\n",
       "       [0, 0, 0, ..., 0, 0, 0],\n",
       "       [1, 0, 0, ..., 0, 0, 0],\n",
       "       ...,\n",
       "       [0, 0, 1, ..., 0, 0, 0],\n",
       "       [0, 0, 0, ..., 0, 0, 0],\n",
       "       [0, 0, 0, ..., 0, 0, 0]], dtype=uint8)"
      ]
     },
     "metadata": {},
     "execution_count": 74
    }
   ],
   "metadata": {}
  },
  {
   "cell_type": "code",
   "execution_count": 75,
   "source": [
    "selector = VarianceThreshold()\r\n",
    "selector.fit(dataset)\r\n",
    "selector.get_support() # get_support 는 선택된 feature 를 bool type 으로 반환해준다. 즉 false = Drop / True = Select"
   ],
   "outputs": [
    {
     "output_type": "execute_result",
     "data": {
      "text/plain": [
       "array([ True,  True,  True,  True,  True,  True,  True,  True,  True,\n",
       "        True,  True,  True,  True,  True,  True,  True,  True,  True,\n",
       "        True,  True,  True,  True,  True,  True,  True,  True,  True,\n",
       "        True,  True,  True,  True,  True,  True,  True,  True,  True,\n",
       "        True,  True,  True,  True,  True,  True,  True,  True,  True,\n",
       "        True,  True,  True,  True,  True,  True,  True,  True,  True,\n",
       "        True,  True,  True,  True,  True,  True,  True,  True,  True,\n",
       "        True,  True,  True,  True,  True,  True,  True,  True,  True,\n",
       "        True,  True,  True,  True,  True,  True,  True,  True,  True,\n",
       "        True, False,  True,  True,  True,  True,  True,  True,  True,\n",
       "        True,  True,  True,  True,  True,  True,  True,  True,  True,\n",
       "        True,  True,  True,  True,  True,  True,  True,  True,  True,\n",
       "        True,  True,  True,  True,  True,  True,  True,  True,  True])"
      ]
     },
     "metadata": {},
     "execution_count": 75
    }
   ],
   "metadata": {}
  },
  {
   "cell_type": "code",
   "execution_count": 66,
   "source": [
    "sum(selector.get_support()) # 이 말은 즉 117 개중 116 개는 사용해야 한다는 것이다. 제외되는 1 가지가 있는데 분명 해당 Feature 의 value 는 한 가지일 것이다. 그래서 제외\r\n"
   ],
   "outputs": [
    {
     "output_type": "execute_result",
     "data": {
      "text/plain": [
       "116"
      ]
     },
     "metadata": {},
     "execution_count": 66
    }
   ],
   "metadata": {}
  },
  {
   "cell_type": "code",
   "execution_count": 80,
   "source": [
    "for col in dataset.columns: # 어떤 feature 가 제외됐는지 확인\r\n",
    "    if col not in dataset.columns[selector.get_support()]:\r\n",
    "        print(col) # 제외된 feature 은 veil-type / veil-type_p 라고 출력되는 이유는 더미화로 그렇다. 아래서 다시 한 번 보자."
   ],
   "outputs": [
    {
     "output_type": "stream",
     "name": "stdout",
     "text": [
      "veil-type_p\n"
     ]
    }
   ],
   "metadata": {}
  },
  {
   "cell_type": "code",
   "execution_count": 67,
   "source": [
    "# 제외되는 feauture 은 veil type\r\n",
    "\r\n",
    "dataset = pd.read_csv('mushrooms.csv')\r\n",
    "\r\n",
    "dataset['veil-type'].value_counts() # value 가 p 로 한가지다. 모든 sample 의 veil-type 이 P 인데 굳이 넣을 필요가 없다는 의미다."
   ],
   "outputs": [
    {
     "output_type": "execute_result",
     "data": {
      "text/plain": [
       "p    8124\n",
       "Name: veil-type, dtype: int64"
      ]
     },
     "metadata": {},
     "execution_count": 67
    }
   ],
   "metadata": {}
  },
  {
   "cell_type": "markdown",
   "source": [
    "* Remove quasi-constant features"
   ],
   "metadata": {}
  },
  {
   "cell_type": "code",
   "execution_count": 81,
   "source": [
    "dataset = pd.read_csv('mushrooms.csv') # 실전\r\n",
    "\r\n",
    "dataset = dataset.drop('class', axis=1) # 타겟은 제외\r\n",
    "dataset.shape"
   ],
   "outputs": [
    {
     "output_type": "execute_result",
     "data": {
      "text/plain": [
       "(8124, 22)"
      ]
     },
     "metadata": {},
     "execution_count": 81
    }
   ],
   "metadata": {}
  },
  {
   "cell_type": "code",
   "execution_count": 82,
   "source": [
    "dataset = pd.get_dummies(dataset) # VarianceThreshold 매서드를 사용하려면 value 가 float 형이어야함\r\n",
    "dataset.shape"
   ],
   "outputs": [
    {
     "output_type": "execute_result",
     "data": {
      "text/plain": [
       "(8124, 117)"
      ]
     },
     "metadata": {},
     "execution_count": 82
    }
   ],
   "metadata": {}
  },
  {
   "cell_type": "code",
   "execution_count": 84,
   "source": [
    "selector = VarianceThreshold(threshold=0.01) # 임계점을 넘지 못하는 feature 은 모두 제외\r\n",
    "sum(selector.get_support()) # 24 개의 features 가 제외됨 "
   ],
   "outputs": [
    {
     "output_type": "execute_result",
     "data": {
      "text/plain": [
       "93"
      ]
     },
     "metadata": {},
     "execution_count": 84
    }
   ],
   "metadata": {}
  },
  {
   "cell_type": "code",
   "execution_count": null,
   "source": [
    "# 제외된 이유는 아래서 설명"
   ],
   "outputs": [],
   "metadata": {}
  },
  {
   "cell_type": "code",
   "execution_count": 90,
   "source": [
    "for col in dataset.columns: # 제외된 features\r\n",
    "    if col not in dataset.columns[selector.get_support()]:\r\n",
    "        print(col) "
   ],
   "outputs": [
    {
     "output_type": "stream",
     "name": "stdout",
     "text": [
      "cap-shape_c\n",
      "cap-shape_s\n",
      "cap-surface_g\n",
      "cap-color_c\n",
      "cap-color_r\n",
      "cap-color_u\n",
      "odor_m\n",
      "gill-color_o\n",
      "gill-color_r\n",
      "stalk-surface-above-ring_y\n",
      "stalk-color-above-ring_c\n",
      "stalk-color-above-ring_y\n",
      "stalk-color-below-ring_c\n",
      "stalk-color-below-ring_y\n",
      "veil-type_p\n",
      "veil-color_y\n",
      "ring-number_n\n",
      "ring-type_f\n",
      "ring-type_n\n",
      "spore-print-color_b\n",
      "spore-print-color_o\n",
      "spore-print-color_r\n",
      "spore-print-color_u\n",
      "spore-print-color_y\n"
     ]
    }
   ],
   "metadata": {}
  },
  {
   "cell_type": "code",
   "execution_count": 97,
   "source": [
    "dataset['cap-shape_c'].value_counts() / len(dataset) # 제외된 feautures 구성비"
   ],
   "outputs": [
    {
     "output_type": "execute_result",
     "data": {
      "text/plain": [
       "0    0.999508\n",
       "1    0.000492\n",
       "Name: cap-shape_c, dtype: float64"
      ]
     },
     "metadata": {},
     "execution_count": 97
    }
   ],
   "metadata": {}
  },
  {
   "cell_type": "code",
   "execution_count": 100,
   "source": [
    "dataset['habitat_u'].value_counts() / len(dataset) # 제외되지 않은 features 구성비"
   ],
   "outputs": [
    {
     "output_type": "execute_result",
     "data": {
      "text/plain": [
       "0    0.954702\n",
       "1    0.045298\n",
       "Name: habitat_u, dtype: float64"
      ]
     },
     "metadata": {},
     "execution_count": 100
    }
   ],
   "metadata": {}
  },
  {
   "cell_type": "code",
   "execution_count": null,
   "source": [],
   "outputs": [],
   "metadata": {}
  }
 ],
 "metadata": {
  "orig_nbformat": 4,
  "language_info": {
   "name": "python",
   "version": "3.9.6",
   "mimetype": "text/x-python",
   "codemirror_mode": {
    "name": "ipython",
    "version": 3
   },
   "pygments_lexer": "ipython3",
   "nbconvert_exporter": "python",
   "file_extension": ".py"
  },
  "kernelspec": {
   "name": "python3",
   "display_name": "Python 3.9.6 64-bit"
  },
  "interpreter": {
   "hash": "71b59b5ba49ad06bb2a011e750699e3983d230921f30bf7f37eb3a01ae69aa26"
  }
 },
 "nbformat": 4,
 "nbformat_minor": 2
}