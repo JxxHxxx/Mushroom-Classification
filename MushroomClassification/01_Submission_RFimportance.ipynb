{
 "cells": [
  {
   "cell_type": "code",
   "execution_count": 218,
   "source": [
    "import pandas as pd\r\n",
    "import matplotlib.pyplot as plt\r\n",
    "import seaborn as sns\r\n",
    "\r\n",
    "from sklearn.ensemble import RandomForestClassifier\r\n",
    "from sklearn.model_selection import train_test_split\r\n",
    "from sklearn.model_selection import cross_val_score\r\n",
    "\r\n",
    "from sklearn.metrics import confusion_matrix "
   ],
   "outputs": [],
   "metadata": {}
  },
  {
   "cell_type": "code",
   "execution_count": 219,
   "source": [
    "dataset = pd.read_csv('../Data/mushrooms.csv') # 데이터 가져오기\r\n",
    "\r\n",
    "dataset_features = dataset.drop('class', axis=1) # feature\r\n",
    "dataset_target = dataset['class'] # target"
   ],
   "outputs": [],
   "metadata": {}
  },
  {
   "cell_type": "code",
   "execution_count": 222,
   "source": [
    "dataset['class'].value_counts().plot(kind = 'bar') # Over/Under Sampling 해야될지 판단 # E, P 가 균형을 이루니 그냥 냅두자"
   ],
   "outputs": [
    {
     "output_type": "execute_result",
     "data": {
      "text/plain": [
       "<AxesSubplot:>"
      ]
     },
     "metadata": {},
     "execution_count": 222
    },
    {
     "output_type": "display_data",
     "data": {
      "image/png": "[encoded data removed]",
      "text/plain": [
       "<Figure size 432x288 with 1 Axes>"
      ]
     },
     "metadata": {
      "needs_background": "light"
     }
    }
   ],
   "metadata": {}
  },
  {
   "cell_type": "code",
   "execution_count": 224,
   "source": [
    "train_features, test_features, train_target, test_target = train_test_split(dataset_features, dataset_target, test_size = 0.2, random_state= 1025) # train, test 분리\r\n",
    "print(\"shape before one hot encoding : \",train_features.shape, test_features.shape, train_target.shape, test_target.shape) # train, test shape 확인\r\n",
    "\r\n",
    "train_features = pd.get_dummies(train_features) # feature selection 을 위한 One - Hot - Encoding \r\n",
    "test_features = pd.get_dummies(test_features) # feature 들의 중요성을 판단할 것이니 Drop_first = False\r\n",
    "print(\"shape after one hot encoding : \", train_features.shape, test_features.shape, train_target.shape, test_target.shape) # One - Hot - Encoding 후 shape"
   ],
   "outputs": [
    {
     "output_type": "stream",
     "name": "stdout",
     "text": [
      "shape before one hot encoding :  (6499, 22) (1625, 22) (6499,) (1625,)\n",
      "shape after one hot encoding :  (6499, 117) (1625, 117) (6499,) (1625,)\n"
     ]
    }
   ],
   "metadata": {}
  },
  {
   "cell_type": "markdown",
   "source": [
    "### 주의\r\n",
    "\r\n",
    "* 하다보면 train, test feature 의 shape 가 일치하지 않을 때가 있다. <br>왜냐하면 특정 features 의 특정 value 가 매우 적어 split 을 할 때 test, train 에 동시에 반영되지 않기 때문이다.<br> shape 가 적절하게 만들어질때까지 random_state 를 조절하였다."
   ],
   "metadata": {}
  },
  {
   "cell_type": "code",
   "execution_count": 226,
   "source": [
    "model = RandomForestClassifier() \r\n",
    "model.fit(train_features, train_target)\r\n",
    "\r\n",
    "feat_importances = pd.Series(model.feature_importances_, index = train_features.columns) # feature_importance 확인\r\n",
    "feat_importances"
   ],
   "outputs": [
    {
     "output_type": "execute_result",
     "data": {
      "text/plain": [
       "cap-shape_b    0.001485\n",
       "cap-shape_c    0.000029\n",
       "cap-shape_f    0.001042\n",
       "cap-shape_k    0.000362\n",
       "cap-shape_s    0.000176\n",
       "                 ...   \n",
       "habitat_l      0.001175\n",
       "habitat_m      0.004064\n",
       "habitat_p      0.003151\n",
       "habitat_u      0.009318\n",
       "habitat_w      0.000234\n",
       "Length: 117, dtype: float64"
      ]
     },
     "metadata": {},
     "execution_count": 226
    }
   ],
   "metadata": {}
  },
  {
   "cell_type": "code",
   "execution_count": 227,
   "source": [
    "feat_importances = feat_importances.nlargest(n=10) # 중요도가 높은 10개 선택\r\n",
    "\r\n",
    "train_features = train_features[feat_importances.index] \r\n",
    "test_features = test_features[feat_importances.index]"
   ],
   "outputs": [],
   "metadata": {}
  },
  {
   "cell_type": "code",
   "execution_count": 213,
   "source": [
    "feat_importances.index # 선택된 feature 확인"
   ],
   "outputs": [
    {
     "output_type": "execute_result",
     "data": {
      "text/plain": [
       "Index(['odor_n', 'odor_f', 'gill-size_b', 'gill-size_n',\n",
       "       'stalk-surface-above-ring_k', 'stalk-surface-below-ring_k',\n",
       "       'gill-spacing_w', 'bruises_t', 'ring-type_p', 'bruises_f'],\n",
       "      dtype='object')"
      ]
     },
     "metadata": {},
     "execution_count": 213
    }
   ],
   "metadata": {}
  },
  {
   "cell_type": "code",
   "execution_count": 217,
   "source": [
    "def modeling(model, train_features = train_features, test_features = test_features): # 모델링\r\n",
    "    model.fit(train_features, train_target)\r\n",
    "    prediction = model.predict(test_features)\r\n",
    "    accuaracy = round(cross_val_score(model, train_features, train_target, cv=5).mean()*100,2) # overfitting 줄이기 위한 교차 검증\r\n",
    "    print(\"train set accuaracy : %f%%\" %(accuaracy))\r\n",
    "    return prediction, accuaracy"
   ],
   "outputs": [],
   "metadata": {}
  },
  {
   "cell_type": "code",
   "execution_count": 189,
   "source": [
    "rf_pred = modeling(RandomForestClassifier()) # trainset 예측률 확인"
   ],
   "outputs": [
    {
     "output_type": "stream",
     "name": "stdout",
     "text": [
      "train set accuaracy : 99.050000%\n"
     ]
    }
   ],
   "metadata": {}
  },
  {
   "cell_type": "code",
   "execution_count": 214,
   "source": [
    "conf_mtrx = confusion_matrix(test_target, rf_pred[0], labels = ['e','p'])\r\n",
    "\r\n",
    "plt.figure(figsize=(8,6))\r\n",
    "plt.title('Confusion Matrix Heatmap of Mushroom', fontsize = 16)\r\n",
    "\r\n",
    "conf_heatmap = sns.heatmap(conf_mtrx, annot = True, fmt = \"d\", center = 500)\r\n",
    "\r\n",
    "conf_heatmap.set_yticklabels(('e','p'), va = 'center', fontsize = '16')\r\n",
    "conf_heatmap.set_xticklabels(('e','p'), va = 'center', fontsize = '16')\r\n",
    "conf_heatmap.set_xlabel('Predict')\r\n",
    "conf_heatmap.set_ylabel('True')\r\n",
    "\r\n",
    "plt.show()"
   ],
   "outputs": [
    {
     "output_type": "display_data",
     "data": {
      "image/png": "[encoded data removed]",
      "text/plain": [
       "<Figure size 576x432 with 2 Axes>"
      ]
     },
     "metadata": {
      "needs_background": "light"
     }
    }
   ],
   "metadata": {}
  },
  {
   "cell_type": "markdown",
   "source": [
    "## 해석\r\n",
    "\r\n",
    "* 실제 독버섯인데 식용버섯이라고 분류할 경우가 18 케이스이다. 추후 분류 문제를 더 공부한다면 왜 이런 결과가 나온것인지 학습할 예정이다."
   ],
   "metadata": {}
  },
  {
   "cell_type": "code",
   "execution_count": 215,
   "source": [
    "print(\"test set accuaracy : %f%%\" %(((conf_mtrx[0,0] + conf_mtrx[1,1])/conf_mtrx.sum())*100))\r\n",
    "rf_pred = modeling(RandomForestClassifier())"
   ],
   "outputs": [
    {
     "output_type": "stream",
     "name": "stdout",
     "text": [
      "test set accuaracy : 98.892308%\n",
      "train set accuaracy : 99.050000%\n"
     ]
    }
   ],
   "metadata": {}
  },
  {
   "cell_type": "code",
   "execution_count": null,
   "source": [],
   "outputs": [],
   "metadata": {}
  }
 ],
 "metadata": {
  "orig_nbformat": 4,
  "language_info": {
   "name": "python",
   "version": "3.9.6",
   "mimetype": "text/x-python",
   "codemirror_mode": {
    "name": "ipython",
    "version": 3
   },
   "pygments_lexer": "ipython3",
   "nbconvert_exporter": "python",
   "file_extension": ".py"
  },
  "kernelspec": {
   "name": "python3",
   "display_name": "Python 3.9.6 64-bit"
  },
  "interpreter": {
   "hash": "71b59b5ba49ad06bb2a011e750699e3983d230921f30bf7f37eb3a01ae69aa26"
  }
 },
 "nbformat": 4,
 "nbformat_minor": 2
}
