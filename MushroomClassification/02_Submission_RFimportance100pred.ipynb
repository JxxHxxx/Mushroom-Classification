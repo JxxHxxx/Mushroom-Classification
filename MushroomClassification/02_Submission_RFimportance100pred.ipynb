{
 "cells": [
  {
   "cell_type": "code",
   "execution_count": 25,
   "source": [
    "import pandas as pd\r\n",
    "import matplotlib.pyplot as plt\r\n",
    "import seaborn as sns\r\n",
    "\r\n",
    "from sklearn.metrics import confusion_matrix\r\n",
    "\r\n",
    "from sklearn.ensemble import RandomForestClassifier\r\n",
    "from sklearn.model_selection import train_test_split\r\n",
    "from sklearn.model_selection import cross_val_score"
   ],
   "outputs": [],
   "metadata": {}
  },
  {
   "cell_type": "code",
   "execution_count": 26,
   "source": [
    "dataset = pd.read_csv('../Data/mushrooms.csv')\r\n",
    "\r\n",
    "dataset_features = dataset.drop('class', axis=1)\r\n",
    "dataset_target = dataset['class']"
   ],
   "outputs": [],
   "metadata": {}
  },
  {
   "cell_type": "code",
   "execution_count": 27,
   "source": [
    "train_features, test_features, train_target, test_target = train_test_split(dataset_features, dataset_target, test_size = 0.2, random_state= 1025)\r\n",
    "print(\"shape before one hot encoding : \",train_features.shape, test_features.shape, train_target.shape, test_target.shape)\r\n",
    "\r\n",
    "train_features = pd.get_dummies(train_features)\r\n",
    "test_features = pd.get_dummies(test_features)\r\n",
    "print(\"shape after one hot encoding : \", train_features.shape, test_features.shape, train_target.shape, test_target.shape)"
   ],
   "outputs": [
    {
     "output_type": "stream",
     "name": "stdout",
     "text": [
      "shape before one hot encoding :  (6499, 22) (1625, 22) (6499,) (1625,)\n",
      "shape after one hot encoding :  (6499, 117) (1625, 117) (6499,) (1625,)\n"
     ]
    }
   ],
   "metadata": {}
  },
  {
   "cell_type": "code",
   "execution_count": 28,
   "source": [
    "model = RandomForestClassifier()\r\n",
    "model.fit(train_features, train_target)\r\n",
    "\r\n",
    "feat_importances = pd.Series(model.feature_importances_, index= train_features.columns)\r\n",
    "feat_importances"
   ],
   "outputs": [
    {
     "output_type": "execute_result",
     "data": {
      "text/plain": [
       "cap-shape_b    0.001571\n",
       "cap-shape_c    0.000083\n",
       "cap-shape_f    0.001050\n",
       "cap-shape_k    0.000613\n",
       "cap-shape_s    0.000117\n",
       "                 ...   \n",
       "habitat_l      0.000702\n",
       "habitat_m      0.005253\n",
       "habitat_p      0.002171\n",
       "habitat_u      0.006576\n",
       "habitat_w      0.001064\n",
       "Length: 117, dtype: float64"
      ]
     },
     "metadata": {},
     "execution_count": 28
    }
   ],
   "metadata": {}
  },
  {
   "cell_type": "code",
   "execution_count": 29,
   "source": [
    "def modeling(model, train_features = train_features, test_features = test_features): # 모델링\r\n",
    "    model.fit(train_features, train_target)\r\n",
    "    prediction = model.predict(test_features)\r\n",
    "    accuaracy = round(cross_val_score(model, train_features, train_target, cv=5).mean()*100,2)\r\n",
    "    print(\"train set accuaracy : %f%%\" %(accuaracy))\r\n",
    "    return prediction, accuaracy"
   ],
   "outputs": [],
   "metadata": {}
  },
  {
   "cell_type": "code",
   "execution_count": 32,
   "source": [
    "for i in range(1, 25):\r\n",
    "    a = feat_importances.nlargest(i)\r\n",
    "    new_train_features = train_features[a.index]\r\n",
    "    new_test_features = test_features[a.index]\r\n",
    "\r\n",
    "    rf_pred = modeling(RandomForestClassifier(), new_train_features, new_test_features )\r\n",
    "    conf_mtrx = confusion_matrix(test_target, rf_pred[0], labels=['e','p'])\r\n",
    "    \r\n",
    "    if conf_mtrx[0,1] + conf_mtrx[1,0] == 0: # 모든 버섯을 정확하게 분류할 때 까지 feature 를 추가합니다.\r\n",
    "        break\r\n",
    "print(\"Total %d features selected\" %(i))\r\n",
    "print(a.index)"
   ],
   "outputs": [
    {
     "output_type": "stream",
     "name": "stdout",
     "text": [
      "train set accuaracy : 88.680000%\n",
      "train set accuaracy : 88.680000%\n",
      "train set accuaracy : 96.920000%\n",
      "train set accuaracy : 96.920000%\n",
      "train set accuaracy : 96.920000%\n",
      "train set accuaracy : 97.400000%\n",
      "train set accuaracy : 97.400000%\n",
      "train set accuaracy : 97.720000%\n",
      "train set accuaracy : 97.720000%\n",
      "train set accuaracy : 97.830000%\n",
      "train set accuaracy : 97.940000%\n",
      "train set accuaracy : 99.050000%\n",
      "train set accuaracy : 99.050000%\n",
      "train set accuaracy : 99.050000%\n",
      "train set accuaracy : 99.150000%\n",
      "train set accuaracy : 99.150000%\n",
      "train set accuaracy : 99.150000%\n",
      "train set accuaracy : 100.000000%\n",
      "Total 18 features selected\n",
      "Index(['odor_n', 'gill-size_b', 'odor_f', 'gill-size_n',\n",
      "       'stalk-surface-below-ring_k', 'ring-type_p', 'gill-color_b',\n",
      "       'stalk-surface-above-ring_s', 'spore-print-color_h', 'bruises_t',\n",
      "       'stalk-surface-above-ring_k', 'gill-spacing_w', 'bruises_f',\n",
      "       'spore-print-color_w', 'stalk-root_b', 'population_v', 'odor_p',\n",
      "       'stalk-shape_e'],\n",
      "      dtype='object')\n"
     ]
    }
   ],
   "metadata": {}
  },
  {
   "cell_type": "code",
   "execution_count": 33,
   "source": [
    "conf_mtrx = confusion_matrix(test_target, rf_pred[0], labels = ['e','p'])\r\n",
    "\r\n",
    "plt.figure(figsize=(8,6))\r\n",
    "plt.title('Confusion Matrix Heatmap of Mushroom', fontsize = 16)\r\n",
    "\r\n",
    "conf_heatmap = sns.heatmap(conf_mtrx, annot = True, fmt = \"d\", center = 500)\r\n",
    "\r\n",
    "conf_heatmap.set_yticklabels(('e','p'), va = 'center', fontsize = '16')\r\n",
    "conf_heatmap.set_xticklabels(('e','p'), va = 'center', fontsize = '16')\r\n",
    "conf_heatmap.set_xlabel('Predict')\r\n",
    "conf_heatmap.set_ylabel('True')"
   ],
   "outputs": [
    {
     "output_type": "execute_result",
     "data": {
      "text/plain": [
       "Text(51.0, 0.5, 'True')"
      ]
     },
     "metadata": {},
     "execution_count": 33
    },
    {
     "output_type": "display_data",
     "data": {
      "image/png": "[encoded data removed]",
      "text/plain": [
       "<Figure size 576x432 with 2 Axes>"
      ]
     },
     "metadata": {
      "needs_background": "light"
     }
    }
   ],
   "metadata": {}
  },
  {
   "cell_type": "code",
   "execution_count": null,
   "source": [],
   "outputs": [],
   "metadata": {}
  }
 ],
 "metadata": {
  "orig_nbformat": 4,
  "language_info": {
   "name": "python",
   "version": "3.9.6",
   "mimetype": "text/x-python",
   "codemirror_mode": {
    "name": "ipython",
    "version": 3
   },
   "pygments_lexer": "ipython3",
   "nbconvert_exporter": "python",
   "file_extension": ".py"
  },
  "kernelspec": {
   "name": "python3",
   "display_name": "Python 3.9.6 64-bit"
  },
  "interpreter": {
   "hash": "71b59b5ba49ad06bb2a011e750699e3983d230921f30bf7f37eb3a01ae69aa26"
  }
 },
 "nbformat": 4,
 "nbformat_minor": 2
}