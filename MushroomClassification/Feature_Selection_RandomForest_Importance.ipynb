{
 "cells": [
  {
   "cell_type": "markdown",
   "source": [
    "# Features Selection\r\n",
    "\r\n",
    "### 1. RandomForest Selection"
   ],
   "metadata": {}
  },
  {
   "cell_type": "markdown",
   "source": [
    "- --\r\n",
    "\r\n",
    "step 01. 중요도 시각화"
   ],
   "metadata": {}
  },
  {
   "cell_type": "code",
   "execution_count": 139,
   "source": [
    "import pandas as pd\r\n",
    "import matplotlib.pyplot as plt\r\n",
    "from sklearn.ensemble import RandomForestClassifier\r\n",
    "from sklearn.model_selection import train_test_split\r\n",
    "from sklearn.model_selection import cross_val_score"
   ],
   "outputs": [],
   "metadata": {}
  },
  {
   "cell_type": "code",
   "execution_count": 133,
   "source": [
    "dataset = pd.read_csv('mushrooms.csv')\r\n",
    "\r\n",
    "dataset_features = dataset.drop('class', axis=1)\r\n",
    "dataset_target = dataset['class']"
   ],
   "outputs": [],
   "metadata": {}
  },
  {
   "cell_type": "code",
   "execution_count": 134,
   "source": [
    "train_features, test_features, train_target, test_target = train_test_split(dataset_features, dataset_target, test_size=0.2, random_state=1)"
   ],
   "outputs": [],
   "metadata": {}
  },
  {
   "cell_type": "code",
   "execution_count": 135,
   "source": [
    "train_features = pd.get_dummies(train_features)\r\n",
    "test_features = pd.get_dummies(test_features)\r\n",
    "\r\n",
    "print(train_features.shape, test_features.shape)"
   ],
   "outputs": [
    {
     "output_type": "stream",
     "name": "stdout",
     "text": [
      "(6499, 117) (1625, 117)\n"
     ]
    }
   ],
   "metadata": {}
  },
  {
   "cell_type": "code",
   "execution_count": 136,
   "source": [
    "model = RandomForestClassifier()\r\n",
    "model.fit(train_features, train_target)"
   ],
   "outputs": [
    {
     "output_type": "execute_result",
     "data": {
      "text/plain": [
       "RandomForestClassifier()"
      ]
     },
     "metadata": {},
     "execution_count": 136
    }
   ],
   "metadata": {}
  },
  {
   "cell_type": "code",
   "execution_count": 137,
   "source": [
    "plt.figure(num=None, figsize=(20,16), dpi=80, facecolor='w', edgecolor='k')\r\n",
    "\r\n",
    "feat_importances = pd.Series(model.feature_importances_, index= train_features.columns)\r\n",
    "\r\n",
    "feat_importances.nlargest(10).plot(kind='barh')"
   ],
   "outputs": [
    {
     "output_type": "execute_result",
     "data": {
      "text/plain": [
       "<AxesSubplot:>"
      ]
     },
     "metadata": {},
     "execution_count": 137
    },
    {
     "output_type": "display_data",
     "data": {
      "text/plain": [
       "<Figure size 1600x1280 with 1 Axes>"
      ],
      "image/svg+xml": "<?xml version=\"1.0\" encoding=\"utf-8\" standalone=\"no\"?>\r\n<!DOCTYPE svg PUBLIC \"-//W3C//DTD SVG 1.1//EN\"\r\n  \"http://www.w3.org/Graphics/SVG/1.1/DTD/svg11.dtd\">\r\n<svg height=\"900.838125pt\" version=\"1.1\" viewBox=\"0 0 1270.040625 900.838125\" width=\"1270.040625pt\" xmlns=\"http://www.w3.org/2000/svg\" xmlns:xlink=\"http://www.w3.org/1999/xlink\">\r\n <metadata>\r\n  <rdf:RDF xmlns:cc=\"http://creativecommons.org/ns#\" xmlns:dc=\"http://purl.org/dc/elements/1.1/\" xmlns:rdf=\"http://www.w3.org/1999/02/22-rdf-syntax-ns#\">\r\n   <cc:Work>\r\n    <dc:type rdf:resource=\"http://purl.org/dc/dcmitype/StillImage\"/>\r\n    <dc:date>2021-08-30T18:06:07.551993</dc:date>\r\n    <dc:format>image/svg+xml</dc:format>\r\n    <dc:creator>\r\n     <cc:Agent>\r\n      <dc:title>Matplotlib v3.4.2, https://matplotlib.org/</dc:title>\r\n     </cc:Agent>\r\n    </dc:creator>\r\n   </cc:Work>\r\n  </rdf:RDF>\r\n </metadata>\r\n <defs>\r\n  <style type=\"text/css\">*{stroke-linecap:butt;stroke-linejoin:round;}</style>\r\n </defs>\r\n <g id=\"figure_1\">\r\n  <g id=\"patch_1\">\r\n   <path d=\"M 0 900.838125 \r\nL 1270.040625 900.838125 \r\nL 1270.040625 0 \r\nL 0 0 \r\nz\r\n\" style=\"fill:#ffffff;\"/>\r\n  </g>\r\n  <g id=\"axes_1\">\r\n   <g id=\"patch_2\">\r\n    <path d=\"M 146.840625 876.96 \r\nL 1262.840625 876.96 \r\nL 1262.840625 7.2 \r\nL 146.840625 7.2 \r\nz\r\n\" style=\"fill:#ffffff;\"/>\r\n   </g>\r\n   <g id=\"patch_3\">\r\n    <path clip-path=\"url(#p03658793d8)\" d=\"M 146.840625 855.216 \r\nL 1209.697768 855.216 \r\nL 1209.697768 811.728 \r\nL 146.840625 811.728 \r\nz\r\n\" style=\"fill:#1f77b4;\"/>\r\n   </g>\r\n   <g id=\"patch_4\">\r\n    <path clip-path=\"url(#p03658793d8)\" d=\"M 146.840625 768.24 \r\nL 789.887587 768.24 \r\nL 789.887587 724.752 \r\nL 146.840625 724.752 \r\nz\r\n\" style=\"fill:#1f77b4;\"/>\r\n   </g>\r\n   <g id=\"patch_5\">\r\n    <path clip-path=\"url(#p03658793d8)\" d=\"M 146.840625 681.264 \r\nL 788.829184 681.264 \r\nL 788.829184 637.776 \r\nL 146.840625 637.776 \r\nz\r\n\" style=\"fill:#1f77b4;\"/>\r\n   </g>\r\n   <g id=\"patch_6\">\r\n    <path clip-path=\"url(#p03658793d8)\" d=\"M 146.840625 594.288 \r\nL 658.853505 594.288 \r\nL 658.853505 550.8 \r\nL 146.840625 550.8 \r\nz\r\n\" style=\"fill:#1f77b4;\"/>\r\n   </g>\r\n   <g id=\"patch_7\">\r\n    <path clip-path=\"url(#p03658793d8)\" d=\"M 146.840625 507.312 \r\nL 638.221627 507.312 \r\nL 638.221627 463.824 \r\nL 146.840625 463.824 \r\nz\r\n\" style=\"fill:#1f77b4;\"/>\r\n   </g>\r\n   <g id=\"patch_8\">\r\n    <path clip-path=\"url(#p03658793d8)\" d=\"M 146.840625 420.336 \r\nL 538.410308 420.336 \r\nL 538.410308 376.848 \r\nL 146.840625 376.848 \r\nz\r\n\" style=\"fill:#1f77b4;\"/>\r\n   </g>\r\n   <g id=\"patch_9\">\r\n    <path clip-path=\"url(#p03658793d8)\" d=\"M 146.840625 333.36 \r\nL 468.634859 333.36 \r\nL 468.634859 289.872 \r\nL 146.840625 289.872 \r\nz\r\n\" style=\"fill:#1f77b4;\"/>\r\n   </g>\r\n   <g id=\"patch_10\">\r\n    <path clip-path=\"url(#p03658793d8)\" d=\"M 146.840625 246.384 \r\nL 466.373569 246.384 \r\nL 466.373569 202.896 \r\nL 146.840625 202.896 \r\nz\r\n\" style=\"fill:#1f77b4;\"/>\r\n   </g>\r\n   <g id=\"patch_11\">\r\n    <path clip-path=\"url(#p03658793d8)\" d=\"M 146.840625 159.408 \r\nL 434.929474 159.408 \r\nL 434.929474 115.92 \r\nL 146.840625 115.92 \r\nz\r\n\" style=\"fill:#1f77b4;\"/>\r\n   </g>\r\n   <g id=\"patch_12\">\r\n    <path clip-path=\"url(#p03658793d8)\" d=\"M 146.840625 72.432 \r\nL 399.427816 72.432 \r\nL 399.427816 28.944 \r\nL 146.840625 28.944 \r\nz\r\n\" style=\"fill:#1f77b4;\"/>\r\n   </g>\r\n   <g id=\"matplotlib.axis_1\">\r\n    <g id=\"xtick_1\">\r\n     <g id=\"line2d_1\">\r\n      <defs>\r\n       <path d=\"M 0 0 \r\nL 0 3.5 \r\n\" id=\"m292e40de96\" style=\"stroke:#000000;stroke-width:0.8;\"/>\r\n      </defs>\r\n      <g>\r\n       <use style=\"stroke:#000000;stroke-width:0.8;\" x=\"146.840625\" xlink:href=\"#m292e40de96\" y=\"876.96\"/>\r\n      </g>\r\n     </g>\r\n     <g id=\"text_1\">\r\n      <!-- 0.00 -->\r\n      <g transform=\"translate(135.707812 891.558437)scale(0.1 -0.1)\">\r\n       <defs>\r\n        <path d=\"M 2034 4250 \r\nQ 1547 4250 1301 3770 \r\nQ 1056 3291 1056 2328 \r\nQ 1056 1369 1301 889 \r\nQ 1547 409 2034 409 \r\nQ 2525 409 2770 889 \r\nQ 3016 1369 3016 2328 \r\nQ 3016 3291 2770 3770 \r\nQ 2525 4250 2034 4250 \r\nz\r\nM 2034 4750 \r\nQ 2819 4750 3233 4129 \r\nQ 3647 3509 3647 2328 \r\nQ 3647 1150 3233 529 \r\nQ 2819 -91 2034 -91 \r\nQ 1250 -91 836 529 \r\nQ 422 1150 422 2328 \r\nQ 422 3509 836 4129 \r\nQ 1250 4750 2034 4750 \r\nz\r\n\" id=\"DejaVuSans-30\" transform=\"scale(0.015625)\"/>\r\n        <path d=\"M 684 794 \r\nL 1344 794 \r\nL 1344 0 \r\nL 684 0 \r\nL 684 794 \r\nz\r\n\" id=\"DejaVuSans-2e\" transform=\"scale(0.015625)\"/>\r\n       </defs>\r\n       <use xlink:href=\"#DejaVuSans-30\"/>\r\n       <use x=\"63.623047\" xlink:href=\"#DejaVuSans-2e\"/>\r\n       <use x=\"95.410156\" xlink:href=\"#DejaVuSans-30\"/>\r\n       <use x=\"159.033203\" xlink:href=\"#DejaVuSans-30\"/>\r\n      </g>\r\n     </g>\r\n    </g>\r\n    <g id=\"xtick_2\">\r\n     <g id=\"line2d_2\">\r\n      <g>\r\n       <use style=\"stroke:#000000;stroke-width:0.8;\" x=\"330.005\" xlink:href=\"#m292e40de96\" y=\"876.96\"/>\r\n      </g>\r\n     </g>\r\n     <g id=\"text_2\">\r\n      <!-- 0.02 -->\r\n      <g transform=\"translate(318.872187 891.558437)scale(0.1 -0.1)\">\r\n       <defs>\r\n        <path d=\"M 1228 531 \r\nL 3431 531 \r\nL 3431 0 \r\nL 469 0 \r\nL 469 531 \r\nQ 828 903 1448 1529 \r\nQ 2069 2156 2228 2338 \r\nQ 2531 2678 2651 2914 \r\nQ 2772 3150 2772 3378 \r\nQ 2772 3750 2511 3984 \r\nQ 2250 4219 1831 4219 \r\nQ 1534 4219 1204 4116 \r\nQ 875 4013 500 3803 \r\nL 500 4441 \r\nQ 881 4594 1212 4672 \r\nQ 1544 4750 1819 4750 \r\nQ 2544 4750 2975 4387 \r\nQ 3406 4025 3406 3419 \r\nQ 3406 3131 3298 2873 \r\nQ 3191 2616 2906 2266 \r\nQ 2828 2175 2409 1742 \r\nQ 1991 1309 1228 531 \r\nz\r\n\" id=\"DejaVuSans-32\" transform=\"scale(0.015625)\"/>\r\n       </defs>\r\n       <use xlink:href=\"#DejaVuSans-30\"/>\r\n       <use x=\"63.623047\" xlink:href=\"#DejaVuSans-2e\"/>\r\n       <use x=\"95.410156\" xlink:href=\"#DejaVuSans-30\"/>\r\n       <use x=\"159.033203\" xlink:href=\"#DejaVuSans-32\"/>\r\n      </g>\r\n     </g>\r\n    </g>\r\n    <g id=\"xtick_3\">\r\n     <g id=\"line2d_3\">\r\n      <g>\r\n       <use style=\"stroke:#000000;stroke-width:0.8;\" x=\"513.169374\" xlink:href=\"#m292e40de96\" y=\"876.96\"/>\r\n      </g>\r\n     </g>\r\n     <g id=\"text_3\">\r\n      <!-- 0.04 -->\r\n      <g transform=\"translate(502.036562 891.558437)scale(0.1 -0.1)\">\r\n       <defs>\r\n        <path d=\"M 2419 4116 \r\nL 825 1625 \r\nL 2419 1625 \r\nL 2419 4116 \r\nz\r\nM 2253 4666 \r\nL 3047 4666 \r\nL 3047 1625 \r\nL 3713 1625 \r\nL 3713 1100 \r\nL 3047 1100 \r\nL 3047 0 \r\nL 2419 0 \r\nL 2419 1100 \r\nL 313 1100 \r\nL 313 1709 \r\nL 2253 4666 \r\nz\r\n\" id=\"DejaVuSans-34\" transform=\"scale(0.015625)\"/>\r\n       </defs>\r\n       <use xlink:href=\"#DejaVuSans-30\"/>\r\n       <use x=\"63.623047\" xlink:href=\"#DejaVuSans-2e\"/>\r\n       <use x=\"95.410156\" xlink:href=\"#DejaVuSans-30\"/>\r\n       <use x=\"159.033203\" xlink:href=\"#DejaVuSans-34\"/>\r\n      </g>\r\n     </g>\r\n    </g>\r\n    <g id=\"xtick_4\">\r\n     <g id=\"line2d_4\">\r\n      <g>\r\n       <use style=\"stroke:#000000;stroke-width:0.8;\" x=\"696.333749\" xlink:href=\"#m292e40de96\" y=\"876.96\"/>\r\n      </g>\r\n     </g>\r\n     <g id=\"text_4\">\r\n      <!-- 0.06 -->\r\n      <g transform=\"translate(685.200936 891.558437)scale(0.1 -0.1)\">\r\n       <defs>\r\n        <path d=\"M 2113 2584 \r\nQ 1688 2584 1439 2293 \r\nQ 1191 2003 1191 1497 \r\nQ 1191 994 1439 701 \r\nQ 1688 409 2113 409 \r\nQ 2538 409 2786 701 \r\nQ 3034 994 3034 1497 \r\nQ 3034 2003 2786 2293 \r\nQ 2538 2584 2113 2584 \r\nz\r\nM 3366 4563 \r\nL 3366 3988 \r\nQ 3128 4100 2886 4159 \r\nQ 2644 4219 2406 4219 \r\nQ 1781 4219 1451 3797 \r\nQ 1122 3375 1075 2522 \r\nQ 1259 2794 1537 2939 \r\nQ 1816 3084 2150 3084 \r\nQ 2853 3084 3261 2657 \r\nQ 3669 2231 3669 1497 \r\nQ 3669 778 3244 343 \r\nQ 2819 -91 2113 -91 \r\nQ 1303 -91 875 529 \r\nQ 447 1150 447 2328 \r\nQ 447 3434 972 4092 \r\nQ 1497 4750 2381 4750 \r\nQ 2619 4750 2861 4703 \r\nQ 3103 4656 3366 4563 \r\nz\r\n\" id=\"DejaVuSans-36\" transform=\"scale(0.015625)\"/>\r\n       </defs>\r\n       <use xlink:href=\"#DejaVuSans-30\"/>\r\n       <use x=\"63.623047\" xlink:href=\"#DejaVuSans-2e\"/>\r\n       <use x=\"95.410156\" xlink:href=\"#DejaVuSans-30\"/>\r\n       <use x=\"159.033203\" xlink:href=\"#DejaVuSans-36\"/>\r\n      </g>\r\n     </g>\r\n    </g>\r\n    <g id=\"xtick_5\">\r\n     <g id=\"line2d_5\">\r\n      <g>\r\n       <use style=\"stroke:#000000;stroke-width:0.8;\" x=\"879.498123\" xlink:href=\"#m292e40de96\" y=\"876.96\"/>\r\n      </g>\r\n     </g>\r\n     <g id=\"text_5\">\r\n      <!-- 0.08 -->\r\n      <g transform=\"translate(868.365311 891.558437)scale(0.1 -0.1)\">\r\n       <defs>\r\n        <path d=\"M 2034 2216 \r\nQ 1584 2216 1326 1975 \r\nQ 1069 1734 1069 1313 \r\nQ 1069 891 1326 650 \r\nQ 1584 409 2034 409 \r\nQ 2484 409 2743 651 \r\nQ 3003 894 3003 1313 \r\nQ 3003 1734 2745 1975 \r\nQ 2488 2216 2034 2216 \r\nz\r\nM 1403 2484 \r\nQ 997 2584 770 2862 \r\nQ 544 3141 544 3541 \r\nQ 544 4100 942 4425 \r\nQ 1341 4750 2034 4750 \r\nQ 2731 4750 3128 4425 \r\nQ 3525 4100 3525 3541 \r\nQ 3525 3141 3298 2862 \r\nQ 3072 2584 2669 2484 \r\nQ 3125 2378 3379 2068 \r\nQ 3634 1759 3634 1313 \r\nQ 3634 634 3220 271 \r\nQ 2806 -91 2034 -91 \r\nQ 1263 -91 848 271 \r\nQ 434 634 434 1313 \r\nQ 434 1759 690 2068 \r\nQ 947 2378 1403 2484 \r\nz\r\nM 1172 3481 \r\nQ 1172 3119 1398 2916 \r\nQ 1625 2713 2034 2713 \r\nQ 2441 2713 2670 2916 \r\nQ 2900 3119 2900 3481 \r\nQ 2900 3844 2670 4047 \r\nQ 2441 4250 2034 4250 \r\nQ 1625 4250 1398 4047 \r\nQ 1172 3844 1172 3481 \r\nz\r\n\" id=\"DejaVuSans-38\" transform=\"scale(0.015625)\"/>\r\n       </defs>\r\n       <use xlink:href=\"#DejaVuSans-30\"/>\r\n       <use x=\"63.623047\" xlink:href=\"#DejaVuSans-2e\"/>\r\n       <use x=\"95.410156\" xlink:href=\"#DejaVuSans-30\"/>\r\n       <use x=\"159.033203\" xlink:href=\"#DejaVuSans-38\"/>\r\n      </g>\r\n     </g>\r\n    </g>\r\n    <g id=\"xtick_6\">\r\n     <g id=\"line2d_6\">\r\n      <g>\r\n       <use style=\"stroke:#000000;stroke-width:0.8;\" x=\"1062.662498\" xlink:href=\"#m292e40de96\" y=\"876.96\"/>\r\n      </g>\r\n     </g>\r\n     <g id=\"text_6\">\r\n      <!-- 0.10 -->\r\n      <g transform=\"translate(1051.529686 891.558437)scale(0.1 -0.1)\">\r\n       <defs>\r\n        <path d=\"M 794 531 \r\nL 1825 531 \r\nL 1825 4091 \r\nL 703 3866 \r\nL 703 4441 \r\nL 1819 4666 \r\nL 2450 4666 \r\nL 2450 531 \r\nL 3481 531 \r\nL 3481 0 \r\nL 794 0 \r\nL 794 531 \r\nz\r\n\" id=\"DejaVuSans-31\" transform=\"scale(0.015625)\"/>\r\n       </defs>\r\n       <use xlink:href=\"#DejaVuSans-30\"/>\r\n       <use x=\"63.623047\" xlink:href=\"#DejaVuSans-2e\"/>\r\n       <use x=\"95.410156\" xlink:href=\"#DejaVuSans-31\"/>\r\n       <use x=\"159.033203\" xlink:href=\"#DejaVuSans-30\"/>\r\n      </g>\r\n     </g>\r\n    </g>\r\n    <g id=\"xtick_7\">\r\n     <g id=\"line2d_7\">\r\n      <g>\r\n       <use style=\"stroke:#000000;stroke-width:0.8;\" x=\"1245.826873\" xlink:href=\"#m292e40de96\" y=\"876.96\"/>\r\n      </g>\r\n     </g>\r\n     <g id=\"text_7\">\r\n      <!-- 0.12 -->\r\n      <g transform=\"translate(1234.69406 891.558437)scale(0.1 -0.1)\">\r\n       <use xlink:href=\"#DejaVuSans-30\"/>\r\n       <use x=\"63.623047\" xlink:href=\"#DejaVuSans-2e\"/>\r\n       <use x=\"95.410156\" xlink:href=\"#DejaVuSans-31\"/>\r\n       <use x=\"159.033203\" xlink:href=\"#DejaVuSans-32\"/>\r\n      </g>\r\n     </g>\r\n    </g>\r\n   </g>\r\n   <g id=\"matplotlib.axis_2\">\r\n    <g id=\"ytick_1\">\r\n     <g id=\"line2d_8\">\r\n      <defs>\r\n       <path d=\"M 0 0 \r\nL -3.5 0 \r\n\" id=\"m407bdd7778\" style=\"stroke:#000000;stroke-width:0.8;\"/>\r\n      </defs>\r\n      <g>\r\n       <use style=\"stroke:#000000;stroke-width:0.8;\" x=\"146.840625\" xlink:href=\"#m407bdd7778\" y=\"833.472\"/>\r\n      </g>\r\n     </g>\r\n     <g id=\"text_8\">\r\n      <!-- odor_n -->\r\n      <g transform=\"translate(105.80625 837.271219)scale(0.1 -0.1)\">\r\n       <defs>\r\n        <path d=\"M 1959 3097 \r\nQ 1497 3097 1228 2736 \r\nQ 959 2375 959 1747 \r\nQ 959 1119 1226 758 \r\nQ 1494 397 1959 397 \r\nQ 2419 397 2687 759 \r\nQ 2956 1122 2956 1747 \r\nQ 2956 2369 2687 2733 \r\nQ 2419 3097 1959 3097 \r\nz\r\nM 1959 3584 \r\nQ 2709 3584 3137 3096 \r\nQ 3566 2609 3566 1747 \r\nQ 3566 888 3137 398 \r\nQ 2709 -91 1959 -91 \r\nQ 1206 -91 779 398 \r\nQ 353 888 353 1747 \r\nQ 353 2609 779 3096 \r\nQ 1206 3584 1959 3584 \r\nz\r\n\" id=\"DejaVuSans-6f\" transform=\"scale(0.015625)\"/>\r\n        <path d=\"M 2906 2969 \r\nL 2906 4863 \r\nL 3481 4863 \r\nL 3481 0 \r\nL 2906 0 \r\nL 2906 525 \r\nQ 2725 213 2448 61 \r\nQ 2172 -91 1784 -91 \r\nQ 1150 -91 751 415 \r\nQ 353 922 353 1747 \r\nQ 353 2572 751 3078 \r\nQ 1150 3584 1784 3584 \r\nQ 2172 3584 2448 3432 \r\nQ 2725 3281 2906 2969 \r\nz\r\nM 947 1747 \r\nQ 947 1113 1208 752 \r\nQ 1469 391 1925 391 \r\nQ 2381 391 2643 752 \r\nQ 2906 1113 2906 1747 \r\nQ 2906 2381 2643 2742 \r\nQ 2381 3103 1925 3103 \r\nQ 1469 3103 1208 2742 \r\nQ 947 2381 947 1747 \r\nz\r\n\" id=\"DejaVuSans-64\" transform=\"scale(0.015625)\"/>\r\n        <path d=\"M 2631 2963 \r\nQ 2534 3019 2420 3045 \r\nQ 2306 3072 2169 3072 \r\nQ 1681 3072 1420 2755 \r\nQ 1159 2438 1159 1844 \r\nL 1159 0 \r\nL 581 0 \r\nL 581 3500 \r\nL 1159 3500 \r\nL 1159 2956 \r\nQ 1341 3275 1631 3429 \r\nQ 1922 3584 2338 3584 \r\nQ 2397 3584 2469 3576 \r\nQ 2541 3569 2628 3553 \r\nL 2631 2963 \r\nz\r\n\" id=\"DejaVuSans-72\" transform=\"scale(0.015625)\"/>\r\n        <path d=\"M 3263 -1063 \r\nL 3263 -1509 \r\nL -63 -1509 \r\nL -63 -1063 \r\nL 3263 -1063 \r\nz\r\n\" id=\"DejaVuSans-5f\" transform=\"scale(0.015625)\"/>\r\n        <path d=\"M 3513 2113 \r\nL 3513 0 \r\nL 2938 0 \r\nL 2938 2094 \r\nQ 2938 2591 2744 2837 \r\nQ 2550 3084 2163 3084 \r\nQ 1697 3084 1428 2787 \r\nQ 1159 2491 1159 1978 \r\nL 1159 0 \r\nL 581 0 \r\nL 581 3500 \r\nL 1159 3500 \r\nL 1159 2956 \r\nQ 1366 3272 1645 3428 \r\nQ 1925 3584 2291 3584 \r\nQ 2894 3584 3203 3211 \r\nQ 3513 2838 3513 2113 \r\nz\r\n\" id=\"DejaVuSans-6e\" transform=\"scale(0.015625)\"/>\r\n       </defs>\r\n       <use xlink:href=\"#DejaVuSans-6f\"/>\r\n       <use x=\"61.181641\" xlink:href=\"#DejaVuSans-64\"/>\r\n       <use x=\"124.658203\" xlink:href=\"#DejaVuSans-6f\"/>\r\n       <use x=\"185.839844\" xlink:href=\"#DejaVuSans-72\"/>\r\n       <use x=\"226.953125\" xlink:href=\"#DejaVuSans-5f\"/>\r\n       <use x=\"276.953125\" xlink:href=\"#DejaVuSans-6e\"/>\r\n      </g>\r\n     </g>\r\n    </g>\r\n    <g id=\"ytick_2\">\r\n     <g id=\"line2d_9\">\r\n      <g>\r\n       <use style=\"stroke:#000000;stroke-width:0.8;\" x=\"146.840625\" xlink:href=\"#m407bdd7778\" y=\"746.496\"/>\r\n      </g>\r\n     </g>\r\n     <g id=\"text_9\">\r\n      <!-- odor_f -->\r\n      <g transform=\"translate(108.623437 750.295219)scale(0.1 -0.1)\">\r\n       <defs>\r\n        <path d=\"M 2375 4863 \r\nL 2375 4384 \r\nL 1825 4384 \r\nQ 1516 4384 1395 4259 \r\nQ 1275 4134 1275 3809 \r\nL 1275 3500 \r\nL 2222 3500 \r\nL 2222 3053 \r\nL 1275 3053 \r\nL 1275 0 \r\nL 697 0 \r\nL 697 3053 \r\nL 147 3053 \r\nL 147 3500 \r\nL 697 3500 \r\nL 697 3744 \r\nQ 697 4328 969 4595 \r\nQ 1241 4863 1831 4863 \r\nL 2375 4863 \r\nz\r\n\" id=\"DejaVuSans-66\" transform=\"scale(0.015625)\"/>\r\n       </defs>\r\n       <use xlink:href=\"#DejaVuSans-6f\"/>\r\n       <use x=\"61.181641\" xlink:href=\"#DejaVuSans-64\"/>\r\n       <use x=\"124.658203\" xlink:href=\"#DejaVuSans-6f\"/>\r\n       <use x=\"185.839844\" xlink:href=\"#DejaVuSans-72\"/>\r\n       <use x=\"226.953125\" xlink:href=\"#DejaVuSans-5f\"/>\r\n       <use x=\"276.953125\" xlink:href=\"#DejaVuSans-66\"/>\r\n      </g>\r\n     </g>\r\n    </g>\r\n    <g id=\"ytick_3\">\r\n     <g id=\"line2d_10\">\r\n      <g>\r\n       <use style=\"stroke:#000000;stroke-width:0.8;\" x=\"146.840625\" xlink:href=\"#m407bdd7778\" y=\"659.52\"/>\r\n      </g>\r\n     </g>\r\n     <g id=\"text_10\">\r\n      <!-- gill-size_b -->\r\n      <g transform=\"translate(90.8125 663.319219)scale(0.1 -0.1)\">\r\n       <defs>\r\n        <path d=\"M 2906 1791 \r\nQ 2906 2416 2648 2759 \r\nQ 2391 3103 1925 3103 \r\nQ 1463 3103 1205 2759 \r\nQ 947 2416 947 1791 \r\nQ 947 1169 1205 825 \r\nQ 1463 481 1925 481 \r\nQ 2391 481 2648 825 \r\nQ 2906 1169 2906 1791 \r\nz\r\nM 3481 434 \r\nQ 3481 -459 3084 -895 \r\nQ 2688 -1331 1869 -1331 \r\nQ 1566 -1331 1297 -1286 \r\nQ 1028 -1241 775 -1147 \r\nL 775 -588 \r\nQ 1028 -725 1275 -790 \r\nQ 1522 -856 1778 -856 \r\nQ 2344 -856 2625 -561 \r\nQ 2906 -266 2906 331 \r\nL 2906 616 \r\nQ 2728 306 2450 153 \r\nQ 2172 0 1784 0 \r\nQ 1141 0 747 490 \r\nQ 353 981 353 1791 \r\nQ 353 2603 747 3093 \r\nQ 1141 3584 1784 3584 \r\nQ 2172 3584 2450 3431 \r\nQ 2728 3278 2906 2969 \r\nL 2906 3500 \r\nL 3481 3500 \r\nL 3481 434 \r\nz\r\n\" id=\"DejaVuSans-67\" transform=\"scale(0.015625)\"/>\r\n        <path d=\"M 603 3500 \r\nL 1178 3500 \r\nL 1178 0 \r\nL 603 0 \r\nL 603 3500 \r\nz\r\nM 603 4863 \r\nL 1178 4863 \r\nL 1178 4134 \r\nL 603 4134 \r\nL 603 4863 \r\nz\r\n\" id=\"DejaVuSans-69\" transform=\"scale(0.015625)\"/>\r\n        <path d=\"M 603 4863 \r\nL 1178 4863 \r\nL 1178 0 \r\nL 603 0 \r\nL 603 4863 \r\nz\r\n\" id=\"DejaVuSans-6c\" transform=\"scale(0.015625)\"/>\r\n        <path d=\"M 313 2009 \r\nL 1997 2009 \r\nL 1997 1497 \r\nL 313 1497 \r\nL 313 2009 \r\nz\r\n\" id=\"DejaVuSans-2d\" transform=\"scale(0.015625)\"/>\r\n        <path d=\"M 2834 3397 \r\nL 2834 2853 \r\nQ 2591 2978 2328 3040 \r\nQ 2066 3103 1784 3103 \r\nQ 1356 3103 1142 2972 \r\nQ 928 2841 928 2578 \r\nQ 928 2378 1081 2264 \r\nQ 1234 2150 1697 2047 \r\nL 1894 2003 \r\nQ 2506 1872 2764 1633 \r\nQ 3022 1394 3022 966 \r\nQ 3022 478 2636 193 \r\nQ 2250 -91 1575 -91 \r\nQ 1294 -91 989 -36 \r\nQ 684 19 347 128 \r\nL 347 722 \r\nQ 666 556 975 473 \r\nQ 1284 391 1588 391 \r\nQ 1994 391 2212 530 \r\nQ 2431 669 2431 922 \r\nQ 2431 1156 2273 1281 \r\nQ 2116 1406 1581 1522 \r\nL 1381 1569 \r\nQ 847 1681 609 1914 \r\nQ 372 2147 372 2553 \r\nQ 372 3047 722 3315 \r\nQ 1072 3584 1716 3584 \r\nQ 2034 3584 2315 3537 \r\nQ 2597 3491 2834 3397 \r\nz\r\n\" id=\"DejaVuSans-73\" transform=\"scale(0.015625)\"/>\r\n        <path d=\"M 353 3500 \r\nL 3084 3500 \r\nL 3084 2975 \r\nL 922 459 \r\nL 3084 459 \r\nL 3084 0 \r\nL 275 0 \r\nL 275 525 \r\nL 2438 3041 \r\nL 353 3041 \r\nL 353 3500 \r\nz\r\n\" id=\"DejaVuSans-7a\" transform=\"scale(0.015625)\"/>\r\n        <path d=\"M 3597 1894 \r\nL 3597 1613 \r\nL 953 1613 \r\nQ 991 1019 1311 708 \r\nQ 1631 397 2203 397 \r\nQ 2534 397 2845 478 \r\nQ 3156 559 3463 722 \r\nL 3463 178 \r\nQ 3153 47 2828 -22 \r\nQ 2503 -91 2169 -91 \r\nQ 1331 -91 842 396 \r\nQ 353 884 353 1716 \r\nQ 353 2575 817 3079 \r\nQ 1281 3584 2069 3584 \r\nQ 2775 3584 3186 3129 \r\nQ 3597 2675 3597 1894 \r\nz\r\nM 3022 2063 \r\nQ 3016 2534 2758 2815 \r\nQ 2500 3097 2075 3097 \r\nQ 1594 3097 1305 2825 \r\nQ 1016 2553 972 2059 \r\nL 3022 2063 \r\nz\r\n\" id=\"DejaVuSans-65\" transform=\"scale(0.015625)\"/>\r\n        <path d=\"M 3116 1747 \r\nQ 3116 2381 2855 2742 \r\nQ 2594 3103 2138 3103 \r\nQ 1681 3103 1420 2742 \r\nQ 1159 2381 1159 1747 \r\nQ 1159 1113 1420 752 \r\nQ 1681 391 2138 391 \r\nQ 2594 391 2855 752 \r\nQ 3116 1113 3116 1747 \r\nz\r\nM 1159 2969 \r\nQ 1341 3281 1617 3432 \r\nQ 1894 3584 2278 3584 \r\nQ 2916 3584 3314 3078 \r\nQ 3713 2572 3713 1747 \r\nQ 3713 922 3314 415 \r\nQ 2916 -91 2278 -91 \r\nQ 1894 -91 1617 61 \r\nQ 1341 213 1159 525 \r\nL 1159 0 \r\nL 581 0 \r\nL 581 4863 \r\nL 1159 4863 \r\nL 1159 2969 \r\nz\r\n\" id=\"DejaVuSans-62\" transform=\"scale(0.015625)\"/>\r\n       </defs>\r\n       <use xlink:href=\"#DejaVuSans-67\"/>\r\n       <use x=\"63.476562\" xlink:href=\"#DejaVuSans-69\"/>\r\n       <use x=\"91.259766\" xlink:href=\"#DejaVuSans-6c\"/>\r\n       <use x=\"119.042969\" xlink:href=\"#DejaVuSans-6c\"/>\r\n       <use x=\"146.826172\" xlink:href=\"#DejaVuSans-2d\"/>\r\n       <use x=\"182.910156\" xlink:href=\"#DejaVuSans-73\"/>\r\n       <use x=\"235.009766\" xlink:href=\"#DejaVuSans-69\"/>\r\n       <use x=\"262.792969\" xlink:href=\"#DejaVuSans-7a\"/>\r\n       <use x=\"315.283203\" xlink:href=\"#DejaVuSans-65\"/>\r\n       <use x=\"376.806641\" xlink:href=\"#DejaVuSans-5f\"/>\r\n       <use x=\"426.806641\" xlink:href=\"#DejaVuSans-62\"/>\r\n      </g>\r\n     </g>\r\n    </g>\r\n    <g id=\"ytick_4\">\r\n     <g id=\"line2d_11\">\r\n      <g>\r\n       <use style=\"stroke:#000000;stroke-width:0.8;\" x=\"146.840625\" xlink:href=\"#m407bdd7778\" y=\"572.544\"/>\r\n      </g>\r\n     </g>\r\n     <g id=\"text_11\">\r\n      <!-- gill-size_n -->\r\n      <g transform=\"translate(90.823437 576.343219)scale(0.1 -0.1)\">\r\n       <use xlink:href=\"#DejaVuSans-67\"/>\r\n       <use x=\"63.476562\" xlink:href=\"#DejaVuSans-69\"/>\r\n       <use x=\"91.259766\" xlink:href=\"#DejaVuSans-6c\"/>\r\n       <use x=\"119.042969\" xlink:href=\"#DejaVuSans-6c\"/>\r\n       <use x=\"146.826172\" xlink:href=\"#DejaVuSans-2d\"/>\r\n       <use x=\"182.910156\" xlink:href=\"#DejaVuSans-73\"/>\r\n       <use x=\"235.009766\" xlink:href=\"#DejaVuSans-69\"/>\r\n       <use x=\"262.792969\" xlink:href=\"#DejaVuSans-7a\"/>\r\n       <use x=\"315.283203\" xlink:href=\"#DejaVuSans-65\"/>\r\n       <use x=\"376.806641\" xlink:href=\"#DejaVuSans-5f\"/>\r\n       <use x=\"426.806641\" xlink:href=\"#DejaVuSans-6e\"/>\r\n      </g>\r\n     </g>\r\n    </g>\r\n    <g id=\"ytick_5\">\r\n     <g id=\"line2d_12\">\r\n      <g>\r\n       <use style=\"stroke:#000000;stroke-width:0.8;\" x=\"146.840625\" xlink:href=\"#m407bdd7778\" y=\"485.568\"/>\r\n      </g>\r\n     </g>\r\n     <g id=\"text_12\">\r\n      <!-- spore-print-color_h -->\r\n      <g transform=\"translate(45.451562 489.367219)scale(0.1 -0.1)\">\r\n       <defs>\r\n        <path d=\"M 1159 525 \r\nL 1159 -1331 \r\nL 581 -1331 \r\nL 581 3500 \r\nL 1159 3500 \r\nL 1159 2969 \r\nQ 1341 3281 1617 3432 \r\nQ 1894 3584 2278 3584 \r\nQ 2916 3584 3314 3078 \r\nQ 3713 2572 3713 1747 \r\nQ 3713 922 3314 415 \r\nQ 2916 -91 2278 -91 \r\nQ 1894 -91 1617 61 \r\nQ 1341 213 1159 525 \r\nz\r\nM 3116 1747 \r\nQ 3116 2381 2855 2742 \r\nQ 2594 3103 2138 3103 \r\nQ 1681 3103 1420 2742 \r\nQ 1159 2381 1159 1747 \r\nQ 1159 1113 1420 752 \r\nQ 1681 391 2138 391 \r\nQ 2594 391 2855 752 \r\nQ 3116 1113 3116 1747 \r\nz\r\n\" id=\"DejaVuSans-70\" transform=\"scale(0.015625)\"/>\r\n        <path d=\"M 1172 4494 \r\nL 1172 3500 \r\nL 2356 3500 \r\nL 2356 3053 \r\nL 1172 3053 \r\nL 1172 1153 \r\nQ 1172 725 1289 603 \r\nQ 1406 481 1766 481 \r\nL 2356 481 \r\nL 2356 0 \r\nL 1766 0 \r\nQ 1100 0 847 248 \r\nQ 594 497 594 1153 \r\nL 594 3053 \r\nL 172 3053 \r\nL 172 3500 \r\nL 594 3500 \r\nL 594 4494 \r\nL 1172 4494 \r\nz\r\n\" id=\"DejaVuSans-74\" transform=\"scale(0.015625)\"/>\r\n        <path d=\"M 3122 3366 \r\nL 3122 2828 \r\nQ 2878 2963 2633 3030 \r\nQ 2388 3097 2138 3097 \r\nQ 1578 3097 1268 2742 \r\nQ 959 2388 959 1747 \r\nQ 959 1106 1268 751 \r\nQ 1578 397 2138 397 \r\nQ 2388 397 2633 464 \r\nQ 2878 531 3122 666 \r\nL 3122 134 \r\nQ 2881 22 2623 -34 \r\nQ 2366 -91 2075 -91 \r\nQ 1284 -91 818 406 \r\nQ 353 903 353 1747 \r\nQ 353 2603 823 3093 \r\nQ 1294 3584 2113 3584 \r\nQ 2378 3584 2631 3529 \r\nQ 2884 3475 3122 3366 \r\nz\r\n\" id=\"DejaVuSans-63\" transform=\"scale(0.015625)\"/>\r\n        <path d=\"M 3513 2113 \r\nL 3513 0 \r\nL 2938 0 \r\nL 2938 2094 \r\nQ 2938 2591 2744 2837 \r\nQ 2550 3084 2163 3084 \r\nQ 1697 3084 1428 2787 \r\nQ 1159 2491 1159 1978 \r\nL 1159 0 \r\nL 581 0 \r\nL 581 4863 \r\nL 1159 4863 \r\nL 1159 2956 \r\nQ 1366 3272 1645 3428 \r\nQ 1925 3584 2291 3584 \r\nQ 2894 3584 3203 3211 \r\nQ 3513 2838 3513 2113 \r\nz\r\n\" id=\"DejaVuSans-68\" transform=\"scale(0.015625)\"/>\r\n       </defs>\r\n       <use xlink:href=\"#DejaVuSans-73\"/>\r\n       <use x=\"52.099609\" xlink:href=\"#DejaVuSans-70\"/>\r\n       <use x=\"115.576172\" xlink:href=\"#DejaVuSans-6f\"/>\r\n       <use x=\"176.757812\" xlink:href=\"#DejaVuSans-72\"/>\r\n       <use x=\"215.621094\" xlink:href=\"#DejaVuSans-65\"/>\r\n       <use x=\"277.144531\" xlink:href=\"#DejaVuSans-2d\"/>\r\n       <use x=\"313.228516\" xlink:href=\"#DejaVuSans-70\"/>\r\n       <use x=\"376.705078\" xlink:href=\"#DejaVuSans-72\"/>\r\n       <use x=\"417.818359\" xlink:href=\"#DejaVuSans-69\"/>\r\n       <use x=\"445.601562\" xlink:href=\"#DejaVuSans-6e\"/>\r\n       <use x=\"508.980469\" xlink:href=\"#DejaVuSans-74\"/>\r\n       <use x=\"548.189453\" xlink:href=\"#DejaVuSans-2d\"/>\r\n       <use x=\"584.273438\" xlink:href=\"#DejaVuSans-63\"/>\r\n       <use x=\"639.253906\" xlink:href=\"#DejaVuSans-6f\"/>\r\n       <use x=\"700.435547\" xlink:href=\"#DejaVuSans-6c\"/>\r\n       <use x=\"728.21875\" xlink:href=\"#DejaVuSans-6f\"/>\r\n       <use x=\"789.400391\" xlink:href=\"#DejaVuSans-72\"/>\r\n       <use x=\"830.513672\" xlink:href=\"#DejaVuSans-5f\"/>\r\n       <use x=\"880.513672\" xlink:href=\"#DejaVuSans-68\"/>\r\n      </g>\r\n     </g>\r\n    </g>\r\n    <g id=\"ytick_6\">\r\n     <g id=\"line2d_13\">\r\n      <g>\r\n       <use style=\"stroke:#000000;stroke-width:0.8;\" x=\"146.840625\" xlink:href=\"#m407bdd7778\" y=\"398.592\"/>\r\n      </g>\r\n     </g>\r\n     <g id=\"text_13\">\r\n      <!-- stalk-surface-above-ring_k -->\r\n      <g transform=\"translate(7.2 402.391219)scale(0.1 -0.1)\">\r\n       <defs>\r\n        <path d=\"M 2194 1759 \r\nQ 1497 1759 1228 1600 \r\nQ 959 1441 959 1056 \r\nQ 959 750 1161 570 \r\nQ 1363 391 1709 391 \r\nQ 2188 391 2477 730 \r\nQ 2766 1069 2766 1631 \r\nL 2766 1759 \r\nL 2194 1759 \r\nz\r\nM 3341 1997 \r\nL 3341 0 \r\nL 2766 0 \r\nL 2766 531 \r\nQ 2569 213 2275 61 \r\nQ 1981 -91 1556 -91 \r\nQ 1019 -91 701 211 \r\nQ 384 513 384 1019 \r\nQ 384 1609 779 1909 \r\nQ 1175 2209 1959 2209 \r\nL 2766 2209 \r\nL 2766 2266 \r\nQ 2766 2663 2505 2880 \r\nQ 2244 3097 1772 3097 \r\nQ 1472 3097 1187 3025 \r\nQ 903 2953 641 2809 \r\nL 641 3341 \r\nQ 956 3463 1253 3523 \r\nQ 1550 3584 1831 3584 \r\nQ 2591 3584 2966 3190 \r\nQ 3341 2797 3341 1997 \r\nz\r\n\" id=\"DejaVuSans-61\" transform=\"scale(0.015625)\"/>\r\n        <path d=\"M 581 4863 \r\nL 1159 4863 \r\nL 1159 1991 \r\nL 2875 3500 \r\nL 3609 3500 \r\nL 1753 1863 \r\nL 3688 0 \r\nL 2938 0 \r\nL 1159 1709 \r\nL 1159 0 \r\nL 581 0 \r\nL 581 4863 \r\nz\r\n\" id=\"DejaVuSans-6b\" transform=\"scale(0.015625)\"/>\r\n        <path d=\"M 544 1381 \r\nL 544 3500 \r\nL 1119 3500 \r\nL 1119 1403 \r\nQ 1119 906 1312 657 \r\nQ 1506 409 1894 409 \r\nQ 2359 409 2629 706 \r\nQ 2900 1003 2900 1516 \r\nL 2900 3500 \r\nL 3475 3500 \r\nL 3475 0 \r\nL 2900 0 \r\nL 2900 538 \r\nQ 2691 219 2414 64 \r\nQ 2138 -91 1772 -91 \r\nQ 1169 -91 856 284 \r\nQ 544 659 544 1381 \r\nz\r\nM 1991 3584 \r\nL 1991 3584 \r\nz\r\n\" id=\"DejaVuSans-75\" transform=\"scale(0.015625)\"/>\r\n        <path d=\"M 191 3500 \r\nL 800 3500 \r\nL 1894 563 \r\nL 2988 3500 \r\nL 3597 3500 \r\nL 2284 0 \r\nL 1503 0 \r\nL 191 3500 \r\nz\r\n\" id=\"DejaVuSans-76\" transform=\"scale(0.015625)\"/>\r\n       </defs>\r\n       <use xlink:href=\"#DejaVuSans-73\"/>\r\n       <use x=\"52.099609\" xlink:href=\"#DejaVuSans-74\"/>\r\n       <use x=\"91.308594\" xlink:href=\"#DejaVuSans-61\"/>\r\n       <use x=\"152.587891\" xlink:href=\"#DejaVuSans-6c\"/>\r\n       <use x=\"180.371094\" xlink:href=\"#DejaVuSans-6b\"/>\r\n       <use x=\"238.28125\" xlink:href=\"#DejaVuSans-2d\"/>\r\n       <use x=\"274.365234\" xlink:href=\"#DejaVuSans-73\"/>\r\n       <use x=\"326.464844\" xlink:href=\"#DejaVuSans-75\"/>\r\n       <use x=\"389.84375\" xlink:href=\"#DejaVuSans-72\"/>\r\n       <use x=\"430.957031\" xlink:href=\"#DejaVuSans-66\"/>\r\n       <use x=\"466.162109\" xlink:href=\"#DejaVuSans-61\"/>\r\n       <use x=\"527.441406\" xlink:href=\"#DejaVuSans-63\"/>\r\n       <use x=\"582.421875\" xlink:href=\"#DejaVuSans-65\"/>\r\n       <use x=\"643.945312\" xlink:href=\"#DejaVuSans-2d\"/>\r\n       <use x=\"680.029297\" xlink:href=\"#DejaVuSans-61\"/>\r\n       <use x=\"741.308594\" xlink:href=\"#DejaVuSans-62\"/>\r\n       <use x=\"804.785156\" xlink:href=\"#DejaVuSans-6f\"/>\r\n       <use x=\"865.966797\" xlink:href=\"#DejaVuSans-76\"/>\r\n       <use x=\"925.146484\" xlink:href=\"#DejaVuSans-65\"/>\r\n       <use x=\"986.669922\" xlink:href=\"#DejaVuSans-2d\"/>\r\n       <use x=\"1022.753906\" xlink:href=\"#DejaVuSans-72\"/>\r\n       <use x=\"1063.867188\" xlink:href=\"#DejaVuSans-69\"/>\r\n       <use x=\"1091.650391\" xlink:href=\"#DejaVuSans-6e\"/>\r\n       <use x=\"1155.029297\" xlink:href=\"#DejaVuSans-67\"/>\r\n       <use x=\"1218.505859\" xlink:href=\"#DejaVuSans-5f\"/>\r\n       <use x=\"1268.505859\" xlink:href=\"#DejaVuSans-6b\"/>\r\n      </g>\r\n     </g>\r\n    </g>\r\n    <g id=\"ytick_7\">\r\n     <g id=\"line2d_14\">\r\n      <g>\r\n       <use style=\"stroke:#000000;stroke-width:0.8;\" x=\"146.840625\" xlink:href=\"#m407bdd7778\" y=\"311.616\"/>\r\n      </g>\r\n     </g>\r\n     <g id=\"text_14\">\r\n      <!-- bruises_f -->\r\n      <g transform=\"translate(95.173437 315.415219)scale(0.1 -0.1)\">\r\n       <use xlink:href=\"#DejaVuSans-62\"/>\r\n       <use x=\"63.476562\" xlink:href=\"#DejaVuSans-72\"/>\r\n       <use x=\"104.589844\" xlink:href=\"#DejaVuSans-75\"/>\r\n       <use x=\"167.96875\" xlink:href=\"#DejaVuSans-69\"/>\r\n       <use x=\"195.751953\" xlink:href=\"#DejaVuSans-73\"/>\r\n       <use x=\"247.851562\" xlink:href=\"#DejaVuSans-65\"/>\r\n       <use x=\"309.375\" xlink:href=\"#DejaVuSans-73\"/>\r\n       <use x=\"361.474609\" xlink:href=\"#DejaVuSans-5f\"/>\r\n       <use x=\"411.474609\" xlink:href=\"#DejaVuSans-66\"/>\r\n      </g>\r\n     </g>\r\n    </g>\r\n    <g id=\"ytick_8\">\r\n     <g id=\"line2d_15\">\r\n      <g>\r\n       <use style=\"stroke:#000000;stroke-width:0.8;\" x=\"146.840625\" xlink:href=\"#m407bdd7778\" y=\"224.64\"/>\r\n      </g>\r\n     </g>\r\n     <g id=\"text_15\">\r\n      <!-- gill-color_b -->\r\n      <g transform=\"translate(85.576562 228.439219)scale(0.1 -0.1)\">\r\n       <use xlink:href=\"#DejaVuSans-67\"/>\r\n       <use x=\"63.476562\" xlink:href=\"#DejaVuSans-69\"/>\r\n       <use x=\"91.259766\" xlink:href=\"#DejaVuSans-6c\"/>\r\n       <use x=\"119.042969\" xlink:href=\"#DejaVuSans-6c\"/>\r\n       <use x=\"146.826172\" xlink:href=\"#DejaVuSans-2d\"/>\r\n       <use x=\"182.910156\" xlink:href=\"#DejaVuSans-63\"/>\r\n       <use x=\"237.890625\" xlink:href=\"#DejaVuSans-6f\"/>\r\n       <use x=\"299.072266\" xlink:href=\"#DejaVuSans-6c\"/>\r\n       <use x=\"326.855469\" xlink:href=\"#DejaVuSans-6f\"/>\r\n       <use x=\"388.037109\" xlink:href=\"#DejaVuSans-72\"/>\r\n       <use x=\"429.150391\" xlink:href=\"#DejaVuSans-5f\"/>\r\n       <use x=\"479.150391\" xlink:href=\"#DejaVuSans-62\"/>\r\n      </g>\r\n     </g>\r\n    </g>\r\n    <g id=\"ytick_9\">\r\n     <g id=\"line2d_16\">\r\n      <g>\r\n       <use style=\"stroke:#000000;stroke-width:0.8;\" x=\"146.840625\" xlink:href=\"#m407bdd7778\" y=\"137.664\"/>\r\n      </g>\r\n     </g>\r\n     <g id=\"text_16\">\r\n      <!-- ring-type_p -->\r\n      <g transform=\"translate(82.96875 141.463219)scale(0.1 -0.1)\">\r\n       <defs>\r\n        <path d=\"M 2059 -325 \r\nQ 1816 -950 1584 -1140 \r\nQ 1353 -1331 966 -1331 \r\nL 506 -1331 \r\nL 506 -850 \r\nL 844 -850 \r\nQ 1081 -850 1212 -737 \r\nQ 1344 -625 1503 -206 \r\nL 1606 56 \r\nL 191 3500 \r\nL 800 3500 \r\nL 1894 763 \r\nL 2988 3500 \r\nL 3597 3500 \r\nL 2059 -325 \r\nz\r\n\" id=\"DejaVuSans-79\" transform=\"scale(0.015625)\"/>\r\n       </defs>\r\n       <use xlink:href=\"#DejaVuSans-72\"/>\r\n       <use x=\"41.113281\" xlink:href=\"#DejaVuSans-69\"/>\r\n       <use x=\"68.896484\" xlink:href=\"#DejaVuSans-6e\"/>\r\n       <use x=\"132.275391\" xlink:href=\"#DejaVuSans-67\"/>\r\n       <use x=\"195.751953\" xlink:href=\"#DejaVuSans-2d\"/>\r\n       <use x=\"231.835938\" xlink:href=\"#DejaVuSans-74\"/>\r\n       <use x=\"271.044922\" xlink:href=\"#DejaVuSans-79\"/>\r\n       <use x=\"330.224609\" xlink:href=\"#DejaVuSans-70\"/>\r\n       <use x=\"393.701172\" xlink:href=\"#DejaVuSans-65\"/>\r\n       <use x=\"455.224609\" xlink:href=\"#DejaVuSans-5f\"/>\r\n       <use x=\"505.224609\" xlink:href=\"#DejaVuSans-70\"/>\r\n      </g>\r\n     </g>\r\n    </g>\r\n    <g id=\"ytick_10\">\r\n     <g id=\"line2d_17\">\r\n      <g>\r\n       <use style=\"stroke:#000000;stroke-width:0.8;\" x=\"146.840625\" xlink:href=\"#m407bdd7778\" y=\"50.688\"/>\r\n      </g>\r\n     </g>\r\n     <g id=\"text_17\">\r\n      <!-- stalk-surface-below-ring_k -->\r\n      <g transform=\"translate(8.290625 54.487219)scale(0.1 -0.1)\">\r\n       <defs>\r\n        <path d=\"M 269 3500 \r\nL 844 3500 \r\nL 1563 769 \r\nL 2278 3500 \r\nL 2956 3500 \r\nL 3675 769 \r\nL 4391 3500 \r\nL 4966 3500 \r\nL 4050 0 \r\nL 3372 0 \r\nL 2619 2869 \r\nL 1863 0 \r\nL 1184 0 \r\nL 269 3500 \r\nz\r\n\" id=\"DejaVuSans-77\" transform=\"scale(0.015625)\"/>\r\n       </defs>\r\n       <use xlink:href=\"#DejaVuSans-73\"/>\r\n       <use x=\"52.099609\" xlink:href=\"#DejaVuSans-74\"/>\r\n       <use x=\"91.308594\" xlink:href=\"#DejaVuSans-61\"/>\r\n       <use x=\"152.587891\" xlink:href=\"#DejaVuSans-6c\"/>\r\n       <use x=\"180.371094\" xlink:href=\"#DejaVuSans-6b\"/>\r\n       <use x=\"238.28125\" xlink:href=\"#DejaVuSans-2d\"/>\r\n       <use x=\"274.365234\" xlink:href=\"#DejaVuSans-73\"/>\r\n       <use x=\"326.464844\" xlink:href=\"#DejaVuSans-75\"/>\r\n       <use x=\"389.84375\" xlink:href=\"#DejaVuSans-72\"/>\r\n       <use x=\"430.957031\" xlink:href=\"#DejaVuSans-66\"/>\r\n       <use x=\"466.162109\" xlink:href=\"#DejaVuSans-61\"/>\r\n       <use x=\"527.441406\" xlink:href=\"#DejaVuSans-63\"/>\r\n       <use x=\"582.421875\" xlink:href=\"#DejaVuSans-65\"/>\r\n       <use x=\"643.945312\" xlink:href=\"#DejaVuSans-2d\"/>\r\n       <use x=\"680.029297\" xlink:href=\"#DejaVuSans-62\"/>\r\n       <use x=\"743.505859\" xlink:href=\"#DejaVuSans-65\"/>\r\n       <use x=\"805.029297\" xlink:href=\"#DejaVuSans-6c\"/>\r\n       <use x=\"832.8125\" xlink:href=\"#DejaVuSans-6f\"/>\r\n       <use x=\"893.994141\" xlink:href=\"#DejaVuSans-77\"/>\r\n       <use x=\"975.78125\" xlink:href=\"#DejaVuSans-2d\"/>\r\n       <use x=\"1011.865234\" xlink:href=\"#DejaVuSans-72\"/>\r\n       <use x=\"1052.978516\" xlink:href=\"#DejaVuSans-69\"/>\r\n       <use x=\"1080.761719\" xlink:href=\"#DejaVuSans-6e\"/>\r\n       <use x=\"1144.140625\" xlink:href=\"#DejaVuSans-67\"/>\r\n       <use x=\"1207.617188\" xlink:href=\"#DejaVuSans-5f\"/>\r\n       <use x=\"1257.617188\" xlink:href=\"#DejaVuSans-6b\"/>\r\n      </g>\r\n     </g>\r\n    </g>\r\n   </g>\r\n   <g id=\"patch_13\">\r\n    <path d=\"M 146.840625 876.96 \r\nL 146.840625 7.2 \r\n\" style=\"fill:none;stroke:#000000;stroke-linecap:square;stroke-linejoin:miter;stroke-width:0.8;\"/>\r\n   </g>\r\n   <g id=\"patch_14\">\r\n    <path d=\"M 1262.840625 876.96 \r\nL 1262.840625 7.2 \r\n\" style=\"fill:none;stroke:#000000;stroke-linecap:square;stroke-linejoin:miter;stroke-width:0.8;\"/>\r\n   </g>\r\n   <g id=\"patch_15\">\r\n    <path d=\"M 146.840625 876.96 \r\nL 1262.840625 876.96 \r\n\" style=\"fill:none;stroke:#000000;stroke-linecap:square;stroke-linejoin:miter;stroke-width:0.8;\"/>\r\n   </g>\r\n   <g id=\"patch_16\">\r\n    <path d=\"M 146.840625 7.2 \r\nL 1262.840625 7.2 \r\n\" style=\"fill:none;stroke:#000000;stroke-linecap:square;stroke-linejoin:miter;stroke-width:0.8;\"/>\r\n   </g>\r\n  </g>\r\n </g>\r\n <defs>\r\n  <clipPath id=\"p03658793d8\">\r\n   <rect height=\"869.76\" width=\"1116\" x=\"146.840625\" y=\"7.2\"/>\r\n  </clipPath>\r\n </defs>\r\n</svg>\r\n",
      "image/png": "[encoded data removed]"
     },
     "metadata": {}
    }
   ],
   "metadata": {}
  },
  {
   "cell_type": "markdown",
   "source": [
    "- --\r\n",
    "\r\n",
    "step 02. 실제 모델링에 활용"
   ],
   "metadata": {}
  },
  {
   "cell_type": "code",
   "execution_count": null,
   "source": [],
   "outputs": [],
   "metadata": {}
  },
  {
   "cell_type": "code",
   "execution_count": 141,
   "source": [
    "for i in range(1, 22):\r\n",
    "    a = feat_importances.nlargest(i)\r\n",
    "\r\n",
    "    New_train_features = train_features[a.index]\r\n",
    "\r\n",
    "    model = RandomForestClassifier()\r\n",
    "    model.fit(New_train_features, train_target)\r\n",
    "    accuracy = model.score(New_train_features, train_target) * 100\r\n",
    "    print(\"total number of feature %d : %f %%, 추가된 feature : %s\" % (i, accuracy, a.index[i-1]))"
   ],
   "outputs": [
    {
     "output_type": "stream",
     "name": "stdout",
     "text": [
      "total number of feature 1 : 88.844438 %, 추가된 feature : odor_n\n",
      "total number of feature 2 : 88.844438 %, 추가된 feature : odor_f\n",
      "total number of feature 3 : 96.845669 %, 추가된 feature : gill-size_b\n",
      "total number of feature 4 : 96.845669 %, 추가된 feature : gill-size_n\n",
      "total number of feature 5 : 96.845669 %, 추가된 feature : spore-print-color_h\n",
      "total number of feature 6 : 97.676566 %, 추가된 feature : stalk-surface-above-ring_k\n",
      "total number of feature 7 : 97.722727 %, 추가된 feature : bruises_f\n",
      "total number of feature 8 : 97.722727 %, 추가된 feature : gill-color_b\n",
      "total number of feature 9 : 97.722727 %, 추가된 feature : ring-type_p\n",
      "total number of feature 10 : 97.722727 %, 추가된 feature : stalk-surface-below-ring_k\n",
      "total number of feature 11 : 99.061394 %, 추가된 feature : gill-spacing_c\n",
      "total number of feature 12 : 99.061394 %, 추가된 feature : bruises_t\n",
      "total number of feature 13 : 99.061394 %, 추가된 feature : stalk-surface-above-ring_s\n",
      "total number of feature 14 : 99.153716 %, 추가된 feature : population_v\n",
      "total number of feature 15 : 99.153716 %, 추가된 feature : spore-print-color_w\n",
      "total number of feature 16 : 99.153716 %, 추가된 feature : gill-spacing_w\n",
      "total number of feature 17 : 99.153716 %, 추가된 feature : ring-type_l\n",
      "total number of feature 18 : 99.153716 %, 추가된 feature : odor_p\n",
      "total number of feature 19 : 99.153716 %, 추가된 feature : spore-print-color_n\n",
      "total number of feature 20 : 99.153716 %, 추가된 feature : stalk-root_e\n",
      "total number of feature 21 : 100.000000 %, 추가된 feature : spore-print-color_k\n"
     ]
    }
   ],
   "metadata": {}
  },
  {
   "cell_type": "markdown",
   "source": [
    "### 주의\r\n",
    "\r\n",
    "1. feature 의 중요도는 뽑힌 sample 에 따라 약간의 변화가 존재합니다. 중요도가 유사한 경우 중요도 순위가 바뀌는 feature 가 존재합니다. "
   ],
   "metadata": {}
  },
  {
   "cell_type": "markdown",
   "source": [
    "# features Selection\r\n",
    "\r\n",
    "* features Selection 기준 : accuracy 를 높이는 features 를 채택했습니다. ex) total feature 2 > 3 으로 변화할 때  accuracy 가 증가했습니다. gill-size_b 선택\r\n",
    "* exception : odor_n , odor_f <br> odor_n 은 most important feature 이기 때문에 1순위로 선택 <br> odor_f 는 accuracy 의 변화를 주지는 않았지만 경험적으로 높은 predict 을 가져다 주기에 채택했습니다."
   ],
   "metadata": {}
  },
  {
   "cell_type": "code",
   "execution_count": 148,
   "source": [
    "New_train_features = train_features[['odor_n','odor_f','gill-size_b','stalk-surface-above-ring_k','bruises_f','gill-spacing_c','population_v','spore-print-color_k']]\r\n",
    "New_test_features = test_features[['odor_n','odor_f','gill-size_b','stalk-surface-above-ring_k','bruises_f','gill-spacing_c','population_v','spore-print-color_k']]\r\n",
    "\r\n",
    "def modeling(model):\r\n",
    "    model.fit(New_train_features, train_target)\r\n",
    "    prediction = model.predict(New_test_features)\r\n",
    "    accuracy = cross_val_score(model, New_train_features, train_target, cv=5) * 100\r\n",
    "    print(accuracy,\"%\")\r\n",
    "\r\n",
    "    return prediction"
   ],
   "outputs": [],
   "metadata": {}
  },
  {
   "cell_type": "code",
   "execution_count": 149,
   "source": [
    "RF_pred = modeling(RandomForestClassifier())"
   ],
   "outputs": [
    {
     "output_type": "stream",
     "name": "stdout",
     "text": [
      "[99.38461538 99.         99.76923077 99.         98.61431871] %\n"
     ]
    }
   ],
   "metadata": {}
  },
  {
   "cell_type": "code",
   "execution_count": 149,
   "source": [
    "RF_pred = modeling(RandomForestClassifier())"
   ],
   "outputs": [
    {
     "output_type": "stream",
     "name": "stdout",
     "text": [
      "[99.38461538 99.         99.76923077 99.         98.61431871] %\n"
     ]
    }
   ],
   "metadata": {}
  },
  {
   "cell_type": "code",
   "execution_count": 150,
   "source": [
    "from sklearn.metrics import confusion_matrix\r\n",
    "\r\n",
    "confusion_matrix(test_target, RF_pred, labels=['e','p']) # 독버섯인데 독버섯이 아니라고 분류한 경우가 5개"
   ],
   "outputs": [
    {
     "output_type": "execute_result",
     "data": {
      "text/plain": [
       "array([[820,   0],\n",
       "       [ 17, 788]], dtype=int64)"
      ]
     },
     "metadata": {},
     "execution_count": 150
    }
   ],
   "metadata": {}
  },
  {
   "cell_type": "code",
   "execution_count": 151,
   "source": [
    "from sklearn.metrics import confusion_matrix\r\n",
    "\r\n",
    "confusion_matrix(test_target, RF_pred, labels=['p','e'])"
   ],
   "outputs": [
    {
     "output_type": "execute_result",
     "data": {
      "text/plain": [
       "array([[788,  17],\n",
       "       [  0, 820]], dtype=int64)"
      ]
     },
     "metadata": {},
     "execution_count": 151
    }
   ],
   "metadata": {}
  },
  {
   "cell_type": "code",
   "execution_count": 149,
   "source": [
    "RF_pred = modeling(RandomForestClassifier())"
   ],
   "outputs": [
    {
     "output_type": "stream",
     "name": "stdout",
     "text": [
      "[99.38461538 99.         99.76923077 99.         98.61431871] %\n"
     ]
    }
   ],
   "metadata": {}
  },
  {
   "cell_type": "code",
   "execution_count": 152,
   "source": [
    "New_train_features = train_features[['odor_n','odor_f','gill-size_b','gill-size_n','bruises_f','spore-print-color_h','stalk-surface-above-ring_k','bruises_f']]\r\n",
    "New_test_features = test_features[['odor_n','odor_f','gill-size_b','gill-size_n','bruises_f','spore-print-color_h','stalk-surface-above-ring_k','bruises_f']]\r\n",
    "\r\n",
    "def modeling(model):\r\n",
    "    model.fit(New_train_features, train_target)\r\n",
    "    prediction = model.predict(New_test_features)\r\n",
    "    accuracy = cross_val_score(model, New_train_features, train_target, cv=5) * 100\r\n",
    "    print(accuracy,\"%\")\r\n",
    "\r\n",
    "    return prediction"
   ],
   "outputs": [],
   "metadata": {}
  },
  {
   "cell_type": "code",
   "execution_count": 153,
   "source": [
    "RF_pred = modeling(RandomForestClassifier()) # 중요도가 높은 순서대로 feature 를 8개를 선택해서 돌려본 결과 정확도는 더 낮게 나온 결과를 볼 수 있습니다."
   ],
   "outputs": [
    {
     "output_type": "stream",
     "name": "stdout",
     "text": [
      "[98.07692308 97.38461538 97.92307692 97.53846154 97.69053118] %\n"
     ]
    }
   ],
   "metadata": {}
  },
  {
   "cell_type": "code",
   "execution_count": 154,
   "source": [
    "from sklearn.metrics import confusion_matrix\r\n",
    "\r\n",
    "confusion_matrix(test_target, RF_pred, labels=['e','p']) "
   ],
   "outputs": [
    {
     "output_type": "execute_result",
     "data": {
      "text/plain": [
       "array([[811,   9],\n",
       "       [ 19, 786]], dtype=int64)"
      ]
     },
     "metadata": {},
     "execution_count": 154
    }
   ],
   "metadata": {}
  },
  {
   "cell_type": "code",
   "execution_count": 155,
   "source": [
    "New_train_features = train_features[['odor_n','odor_f','gill-size_b','gill-size_n','bruises_f','spore-print-color_h','stalk-surface-above-ring_k','bruises_f','gill-color_b','ring-type_p']]\r\n",
    "New_test_features = test_features[['odor_n','odor_f','gill-size_b','gill-size_n','bruises_f','spore-print-color_h','stalk-surface-above-ring_k','bruises_f','gill-color_b','ring-type_p']]\r\n",
    "\r\n",
    "def modeling(model):\r\n",
    "    model.fit(New_train_features, train_target)\r\n",
    "    prediction = model.predict(New_test_features)\r\n",
    "    accuracy = cross_val_score(model, New_train_features, train_target, cv=5) * 100\r\n",
    "    print(accuracy,\"%\")\r\n",
    "\r\n",
    "    return prediction"
   ],
   "outputs": [],
   "metadata": {}
  },
  {
   "cell_type": "code",
   "execution_count": 156,
   "source": [
    "RF_pred = modeling(RandomForestClassifier()) # feature 2개를 더 추가해서 돌려보았습니다. 결과는 변함없습니다."
   ],
   "outputs": [
    {
     "output_type": "stream",
     "name": "stdout",
     "text": [
      "[98.07692308 97.38461538 97.92307692 97.53846154 97.69053118] %\n"
     ]
    }
   ],
   "metadata": {}
  },
  {
   "cell_type": "code",
   "execution_count": 157,
   "source": [
    "from sklearn.metrics import confusion_matrix\r\n",
    "\r\n",
    "confusion_matrix(test_target, RF_pred, labels=['e','p']) "
   ],
   "outputs": [
    {
     "output_type": "execute_result",
     "data": {
      "text/plain": [
       "array([[811,   9],\n",
       "       [ 19, 786]], dtype=int64)"
      ]
     },
     "metadata": {},
     "execution_count": 157
    }
   ],
   "metadata": {}
  },
  {
   "cell_type": "markdown",
   "source": [
    "# MY opinion\r\n",
    "\r\n",
    "1. features 를 importance 기준으로 cutting 하는 것은 좋지 못한 결과를 가져올 수도 있다.\r\n",
    "2. accuracy 가 증가시키는 feature 를 추가하는 것은 순전히 내가 선택한 방식이지 , 어디서 권장하고 있는 방식이 아니고 더 효과적이라고 단정지을 수 없다. <br> 왜냐하면 단순히 해당 feature 의 추가로 인한 성능 상승인지 , 여러개의 feature 가 추가되면서 상승시킨 것인지는 알 수 없다. <br> 그래도 경험적으로 봤을 때 상승을 가져오는건 맞다."
   ],
   "metadata": {}
  },
  {
   "cell_type": "code",
   "execution_count": null,
   "source": [],
   "outputs": [],
   "metadata": {}
  }
 ],
 "metadata": {
  "orig_nbformat": 4,
  "language_info": {
   "name": "python",
   "version": "3.9.6",
   "mimetype": "text/x-python",
   "codemirror_mode": {
    "name": "ipython",
    "version": 3
   },
   "pygments_lexer": "ipython3",
   "nbconvert_exporter": "python",
   "file_extension": ".py"
  },
  "kernelspec": {
   "name": "python3",
   "display_name": "Python 3.9.6 64-bit"
  },
  "interpreter": {
   "hash": "71b59b5ba49ad06bb2a011e750699e3983d230921f30bf7f37eb3a01ae69aa26"
  }
 },
 "nbformat": 4,
 "nbformat_minor": 2
}